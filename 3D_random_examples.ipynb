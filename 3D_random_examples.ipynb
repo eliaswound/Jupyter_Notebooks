{
 "cells": [
  {
   "cell_type": "code",
   "execution_count": 1,
   "id": "91957c57-9149-4ee7-af23-37b987ec7b12",
   "metadata": {},
   "outputs": [],
   "source": [
    "# This is code for creating random examples in 3D.\n",
    "# Use this code if you: have a bunch of 3D images. \n",
    "# And for creating ground truth images \n",
    "# You want to create a random example set for these 3D images. \n",
    "import os\n",
    "import sys\n",
    "# import tk for getting the directory faster. dont need this in a command line/server version\n",
    "import tkinter as tk\n",
    "from tkinter import *\n",
    "from tkinter import filedialog\n",
    "import numpy as np\n",
    "import glob\n",
    "from tifffile import imread, imwrite"
   ]
  },
  {
   "cell_type": "code",
   "execution_count": 3,
   "id": "c461afc1-4168-4c6b-9b66-e22641800cf0",
   "metadata": {},
   "outputs": [
    {
     "name": "stdout",
     "output_type": "stream",
     "text": [
      "Selected file path: /Users/eliasguan/Desktop/EG_stardist_segmentation/022523_smFISH_analysis_v2.0_development/Weekly_Reports/2024Spring/051424/3D_Original_image\n"
     ]
    }
   ],
   "source": [
    "# Find your local path for the image sample\n",
    "def open_file_dialog():\n",
    "    root = tk.Tk()\n",
    "    root.withdraw()  # Hide the main window\n",
    "\n",
    "    file_path = filedialog.askdirectory()  # Open the file dialog window\n",
    "    os.chdir(file_path)\n",
    "    root.destroy()  # Destroy the root window after file selection\n",
    "    return file_path\n",
    "\n",
    "if __name__ == \"__main__\":\n",
    "    selected_file_path = open_file_dialog()\n",
    "    print(\"Selected file path:\", selected_file_path)"
   ]
  },
  {
   "cell_type": "code",
   "execution_count": 2,
   "id": "d1aaac6e-d98b-4117-a025-a4e957cec480",
   "metadata": {},
   "outputs": [],
   "source": [
    "def generate_random_samples(image, region_size=(500, 500), stack_amount=15, num_samples=10):\n",
    "    z_dim, x_dim, y_dim = image.shape\n",
    "    sampled_regions = []\n",
    "\n",
    "    # Calculate the maximum starting index for each dimension\n",
    "    max_z = z_dim - stack_amount\n",
    "    max_x = x_dim - region_size[0]\n",
    "    max_y = y_dim - region_size[1]\n",
    "\n",
    "    for _ in range(num_samples):\n",
    "        # Generate random starting indices for each dimension\n",
    "        start_z = np.random.randint(0, max_z)\n",
    "        start_x = np.random.randint(0, max_x)\n",
    "        start_y = np.random.randint(0, max_y)\n",
    "\n",
    "        # Extract the region from the image\n",
    "        sampled_region = image[start_z:start_z+stack_amount, start_x:start_x+region_size[0], start_y:start_y+region_size[1]]\n",
    "        sampled_regions.append(sampled_region)\n",
    "\n",
    "    return sampled_regions\n",
    "\n",
    "# Example usage:\n",
    "# Assuming 'image' is your 3D image stored as a numpy array with dimensions (z, x, y)\n",
    "# sampled_regions = generate_random_samples(image, region_size=(500, 500), stack_amount=15, num_samples=10)\n"
   ]
  },
  {
   "cell_type": "code",
   "execution_count": 5,
   "id": "daa6ac40-1abb-4324-9361-0370c4430541",
   "metadata": {},
   "outputs": [],
   "source": [
    "def create_directory(dir_name):\n",
    "    '''input: Dir_name: The name of the directory, string, default results \n",
    "       output: Wether the directory is created or it already exists \n",
    "    '''\n",
    "    current_directory = os.getcwd()  # Get the current working directory\n",
    "    results_directory = os.path.join(current_directory, str(dir_name))  # Path to the results directory\n",
    "    \n",
    "    if not os.path.exists(results_directory):  # Check if the results directory exists\n",
    "        os.mkdir(dir_name)  # Create the results directory if it doesn't exist\n",
    "        print(\"Target directory \"+dir_name+\" created successfully.\")\n",
    "    else:\n",
    "        print(\"Target directory already exists.\")"
   ]
  },
  {
   "cell_type": "code",
   "execution_count": 10,
   "id": "3d9963fb-d71f-4a48-9d47-a44676244d56",
   "metadata": {},
   "outputs": [
    {
     "name": "stdout",
     "output_type": "stream",
     "text": [
      "Target directory already exists.\n"
     ]
    }
   ],
   "source": [
    "imagenames = glob.glob('*.tif')\n",
    "image = imread(imagenames)\n",
    "path = os.getcwd()\n",
    "os.chdir('..')\n",
    "create_directory('3D_Original_sampled')\n",
    "sample_regions = generate_random_samples(image)\n",
    "for i in range(len(sample_regions)):\n",
    "    sample = sample_regions[i]\n",
    "    imwrite('3D_Original_sampled/random_sample'+str(i).zfill(3)+'.tif', sample)\n",
    "os.chdir(path)\n"
   ]
  },
  {
   "cell_type": "code",
   "execution_count": 9,
   "id": "7ef9e0f4-38d9-4b63-8fb2-72f871f57172",
   "metadata": {},
   "outputs": [],
   "source": [
    "os.chdir(path)"
   ]
  },
  {
   "cell_type": "code",
   "execution_count": null,
   "id": "183435b0-cfc2-4609-8b0f-1d5fb0b62971",
   "metadata": {},
   "outputs": [],
   "source": []
  }
 ],
 "metadata": {
  "kernelspec": {
   "display_name": "stardist-env",
   "language": "python",
   "name": "stardist-env"
  },
  "language_info": {
   "codemirror_mode": {
    "name": "ipython",
    "version": 3
   },
   "file_extension": ".py",
   "mimetype": "text/x-python",
   "name": "python",
   "nbconvert_exporter": "python",
   "pygments_lexer": "ipython3",
   "version": "3.10.14"
  }
 },
 "nbformat": 4,
 "nbformat_minor": 5
}
