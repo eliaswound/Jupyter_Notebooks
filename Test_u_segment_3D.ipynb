{
 "cells": [
  {
   "cell_type": "code",
   "execution_count": 2,
   "id": "7799052c-2d33-43c8-bc4f-4b67b7147e6e",
   "metadata": {},
   "outputs": [
    {
     "ename": "ModuleNotFoundError",
     "evalue": "No module named 'segment3D'",
     "output_type": "error",
     "traceback": [
      "\u001b[0;31m---------------------------------------------------------------------------\u001b[0m",
      "\u001b[0;31mModuleNotFoundError\u001b[0m                       Traceback (most recent call last)",
      "Cell \u001b[0;32mIn[2], line 9\u001b[0m\n\u001b[1;32m      6\u001b[0m \u001b[38;5;28;01mimport\u001b[39;00m \u001b[38;5;21;01mskimage\u001b[39;00m\u001b[38;5;21;01m.\u001b[39;00m\u001b[38;5;21;01mfilters\u001b[39;00m \u001b[38;5;28;01mas\u001b[39;00m \u001b[38;5;21;01mskfilters\u001b[39;00m\n\u001b[1;32m      7\u001b[0m \u001b[38;5;28;01mimport\u001b[39;00m \u001b[38;5;21;01mos\u001b[39;00m \n\u001b[0;32m----> 9\u001b[0m \u001b[38;5;28;01mimport\u001b[39;00m \u001b[38;5;21;01msegment3D\u001b[39;00m\u001b[38;5;21;01m.\u001b[39;00m\u001b[38;5;21;01mparameters\u001b[39;00m \u001b[38;5;28;01mas\u001b[39;00m \u001b[38;5;21;01muSegment3D_params\u001b[39;00m \u001b[38;5;66;03m# this is useful to call default parameters, and keep track of parameter changes and for saving parameters.  \u001b[39;00m\n\u001b[1;32m     10\u001b[0m \u001b[38;5;28;01mimport\u001b[39;00m \u001b[38;5;21;01msegment3D\u001b[39;00m\u001b[38;5;21;01m.\u001b[39;00m\u001b[38;5;21;01msegmentation\u001b[39;00m \u001b[38;5;28;01mas\u001b[39;00m \u001b[38;5;21;01muSegment3D_segment\u001b[39;00m\n\u001b[1;32m     11\u001b[0m \u001b[38;5;28;01mimport\u001b[39;00m \u001b[38;5;21;01msegment3D\u001b[39;00m\u001b[38;5;21;01m.\u001b[39;00m\u001b[38;5;21;01musegment3d\u001b[39;00m \u001b[38;5;28;01mas\u001b[39;00m \u001b[38;5;21;01muSegment3D\u001b[39;00m\n",
      "\u001b[0;31mModuleNotFoundError\u001b[0m: No module named 'segment3D'"
     ]
    }
   ],
   "source": [
    "import skimage.io as skio \n",
    "import pylab as plt \n",
    "import numpy as np \n",
    "import scipy.ndimage as ndimage\n",
    "import skimage.segmentation as sksegmentation \n",
    "import skimage.filters as skfilters\n",
    "import os \n",
    "    \n",
    "import segment3D.parameters as uSegment3D_params # this is useful to call default parameters, and keep track of parameter changes and for saving parameters.  \n",
    "import segment3D.segmentation as uSegment3D_segment\n",
    "import segment3D.usegment3d as uSegment3D\n",
    "import segment3D.filters as uSegment3D_filters \n",
    "import segment3D.file_io as uSegment3D_fio\n",
    "import segment3D.watershed as uSegment3D_watershed\n",
    "import segment3D.flows as uSegment3D_flows\n",
    "    \n",
    "    \n",
    "# read the lamellipodia image. \n",
    "imgfile = '/Users/eliasguan/Desktop/EG_stardist_segmentation/022523_smFISH_analysis_v2.0_development/Weekly_Reports/2024Spring/061724/example_data/anisotropic/unwrapped_drosophila/topographic_image_I_alt_Suv_opt_t000025.tif'"
   ]
  },
  {
   "cell_type": "code",
   "execution_count": null,
   "id": "30b3c006-45ea-4092-b33b-db5c3d81c622",
   "metadata": {},
   "outputs": [],
   "source": [
    "img = skio.imread(imgfile)\n",
    "    \n",
    "    surface_slice_no = 110\n",
    "    \n",
    "    \"\"\"\n",
    "    Visualize the image in max projection, as you can see the cells are very thin and span only a few cells. \n",
    "    \n",
    "    We are not going to resize the image to isotropic but instead proceed to generate 2D segmentations, optimizing the cellpose diameter per slice.  \n",
    "    \"\"\"\n",
    "    plt.figure(figsize=(10,10))\n",
    "    plt.subplot(131)\n",
    "    plt.title('Raw')\n",
    "    plt.imshow(img[surface_slice_no], cmap='gray')\n",
    "    plt.subplot(132)\n",
    "    plt.imshow(img[:,img.shape[1]//2], cmap='gray')\n",
    "    plt.subplot(133)\n",
    "    plt.imshow(img[:,:,img.shape[2]//2], cmap='gray')\n",
    "    plt.show()\n",
    "    \n",
    "    print(img.shape)"
   ]
  }
 ],
 "metadata": {
  "kernelspec": {
   "display_name": "stardist-env",
   "language": "python",
   "name": "stardist-env"
  },
  "language_info": {
   "codemirror_mode": {
    "name": "ipython",
    "version": 3
   },
   "file_extension": ".py",
   "mimetype": "text/x-python",
   "name": "python",
   "nbconvert_exporter": "python",
   "pygments_lexer": "ipython3",
   "version": "3.10.14"
  }
 },
 "nbformat": 4,
 "nbformat_minor": 5
}
