{
 "cells": [
  {
   "cell_type": "code",
   "execution_count": null,
   "id": "37bba409-00be-4730-8fbe-52bdcd96a763",
   "metadata": {},
   "outputs": [],
   "source": [
    "# This is version 3.10 for smFISH spot detection. I have tried using pycharm + other python platform but in the end I feel like using Jupyter notebook is more suitable \n",
    "# Especailly for person who enter the Planarian Field might not understand coding/structure and other things too much. \n",
    "# This requires a enviornment and setting parameters. \n",
    "# https://stackoverflow.com/questions/58645807/change-interpreter-in-jupyter-notebook Please refer to this for setting up python interpreter. \n",
    "# This requires setting up a enviornment for 3D detection on stardist and bigfish. \n",
    "# Recommend to setup a enviornment for Stardist and then install bigfish/fishquant. \n",
    "# Please read instructions from Stardist to do so, and set python interpreter using the stackoverflow instructions. \n",
    "# Depend on your Image and settings this whole code need a while to run. I am making it as light as possible so please be patient. \n",
    "# I am also using tqdm in all of my customized code to show you process and the expected time in real time. \n",
    "# Please contact qingxuguan2020@u.northwestern.edu for any details/updates/help. "
   ]
  },
  {
   "cell_type": "code",
   "execution_count": null,
   "id": "b760c9b2-2894-49a4-8d2f-31057411b4db",
   "metadata": {},
   "outputs": [],
   "source": [
    "nucleiChannelPath = \"/Users/eliasguan/Desktop/EG_0920_Test_wnt1_incision_amputation/Experiment_dataset/Experiment/0h_Amputation/Image1/405/0h_Amputation_Image1_405.tif\"\n",
    "modelDirectory = \"/Users/eliasguan/Desktop/models\"\n",
    "resultsPath = \"/Users/eliasguan/Desktop/EG_0920_Test_wnt1_incision_amputation/Experiment_dataset/Experiment/0h_Amputation/Image1/565/results\"\n",
    "nuclei_projection_size = 10\n",
    "# Set your thresh hold for stardist segmentation \n",
    "detection_thresh = (0.4,0.3)\n",
    "# If the image is normalized (i.e normalized from CSBdeep or other method, use True, or use False)\n",
    "normalizedImage = False\n",
    "# Change your normalize threshold here. If it is True previously, you dont need to change it. \n",
    "normalize_thresh = (0.1, 99.9)\n",
    "# Run all then you are good.\n",
    "# Do you want to use a custo trained model here. \n",
    "# Here if you need to have a custom model the system will ask you for a custom model directory\n",
    "custom_model = False\n",
    "# Here select your random sample percentage in z-stack for nuclei segmentation estimation. 0 -100 is the percentage range, 100% means each z-stack will be selected and sampled. \n",
    "samplePercentage = 100\n",
    "# Here select your random sample region size for nuclei segmentation estimation. 500X5000 means 500 X 500 pixel in each z-stack will be selected\n",
    "sampleRegionSize = (500,500)\n",
    "# Here set the nuclei label expanding radius\n",
    "labelExpansionSize = 20"
   ]
  },
  {
   "cell_type": "code",
   "execution_count": null,
   "id": "f59013d7-ebd8-4d0e-96ab-31315fa4794f",
   "metadata": {},
   "outputs": [],
   "source": [
    "# This part is for importing all the functions for smFISH detection. Please install them if you dont have these pacakges. \n",
    "import os\n",
    "import sys\n",
    "# import tk for getting the directory faster. dont need this in a command line/server version\n",
    "import tkinter as tk\n",
    "from tkinter import *\n",
    "from tkinter import filedialog\n",
    "import numpy as np\n",
    "import glob\n",
    "from tifffile import imread, imwrite\n",
    "import numpy as np\n",
    "import bigfish.detection \n",
    "import bigfish.stack\n",
    "import bigfish.plot\n",
    "from tqdm import tqdm\n",
    "import seaborn as sns\n",
    "import matplotlib.pyplot as plt\n",
    "import csv\n",
    "import random\n",
    "import math\n",
    "import json\n",
    "# if you dont need to plot in jupyter you don need these. Some magic interperters need to be removed for command line version. \n",
    "import matplotlib\n",
    "matplotlib.rcParams[\"image.interpolation\"] = 'none'\n",
    "import matplotlib.pyplot as plt\n",
    "%matplotlib inline\n",
    "%config InlineBackend.figure_format = 'retina'\n",
    "# Glob and tifffile are needed\n",
    "from glob import glob\n",
    "from tifffile import imread,imwrite\n",
    "# csb deep is to take normalization \n",
    "from csbdeep.utils import Path, normalize\n",
    "from csbdeep.io import save_tiff_imagej_compatible\n",
    "# This is your stardist models and everything in stardist coming from. \n",
    "from stardist import random_label_cmap, _draw_polygons, export_imagej_rois\n",
    "from stardist.models import StarDist2D\n",
    "from skimage import segmentation\n",
    "import bigfish.multistack as multistack\n",
    "# Set random seed for you color map. You do not really need this to be 6 all the time, but its okay. \n",
    "np.random.seed(6)\n",
    "lbl_cmap = random_label_cmap()"
   ]
  }
 ],
 "metadata": {
  "kernelspec": {
   "display_name": "stardist-env",
   "language": "python",
   "name": "stardist-env"
  },
  "language_info": {
   "codemirror_mode": {
    "name": "ipython",
    "version": 3
   },
   "file_extension": ".py",
   "mimetype": "text/x-python",
   "name": "python",
   "nbconvert_exporter": "python",
   "pygments_lexer": "ipython3",
   "version": "3.10.14"
  }
 },
 "nbformat": 4,
 "nbformat_minor": 5
}
