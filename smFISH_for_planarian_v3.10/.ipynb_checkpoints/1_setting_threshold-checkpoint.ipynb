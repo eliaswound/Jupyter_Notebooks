{
 "cells": [
  {
   "cell_type": "code",
   "execution_count": 1,
   "id": "0e838246-9fe6-4aa6-ae11-0af739ad040f",
   "metadata": {},
   "outputs": [],
   "source": [
    "# This is version 3.10 for smFISH spot detection. \n",
    "# I will also have a pycharm version for running stably on northwestern quest with compatible bash command. \n",
    "# For Researchers not familiar with coding \n",
    "# I will further provide a GUI version in version 3.2+\n",
    "# To Set up you need package stardist and bigfish/fishquant. \n",
    "# This requires a enviornment and setting parameters. \n",
    "# https://stackoverflow.com/questions/58645807/change-interpreter-in-jupyter-notebook Please refer to this for setting up python interpreter. \n",
    "# This requires setting up a enviornment for 3D detection on stardist and bigfish. \n",
    "# Recommend to setup a enviornment for Stardist and then install bigfish/fishquant. \n",
    "# Please also make sure if you are running on apple silicon\n",
    "# Make sure your tensorflow is supported by tensorflow metal. \n",
    "# https://pypi.org/project/tensorflow-metal/ Here find the compatible versions.\n",
    "# Please read instructions from Stardist to do so, and set python interpreter using the stackoverflow instructions. \n",
    "# Depend on your Image and settings this whole code need a while to run. I am making it as light as possible so please be patient. \n",
    "# I am also using tqdm in all of my customized code to show you process and the expected time in real time. \n",
    "# Please contact qingxuguan2020@u.northwestern.edu for any details/updates/help. "
   ]
  },
  {
   "cell_type": "code",
   "execution_count": 56,
   "id": "0c00d4ea-4a00-4818-a319-f7508f33e94b",
   "metadata": {},
   "outputs": [],
   "source": [
    "# Setting up Your Conditions\n",
    "# Setting Path\n",
    "controlDirectory = \"/Users/eliasguan/Desktop/EG_0920_Test_wnt1_incision_amputation/Experiment_dataset/control\"\n",
    "experimentDirectory = \"/Users/eliasguan/Desktop/EG_0920_Test_wnt1_incision_amputation/Experiment_dataset/Experiment\" \n",
    "customFileName = \"565.tif\"\n",
    "counterstainDirectory = \"/Users/eliasguan/Desktop/EG_0920_Test_wnt1_incision_amputation/Experiment_dataset/Experiment\" \n",
    "counterstainFileName = \"633.tif\""
   ]
  },
  {
   "cell_type": "code",
   "execution_count": 55,
   "id": "7bdd788d-36d1-499a-b4f5-b4704755a1f5",
   "metadata": {},
   "outputs": [],
   "source": [
    "# Setting parameters\n",
    "kernel_size = (1,1.5,1.5)\n",
    "# Set the voxel size. This is determined by the pixel size of your microscope. Please contact microscopt manufactuer and convert resolution to voxel size. \n",
    "# unit is nm, please change to nm and note this should be the same for control and your experimental image. \n",
    "# I specifically allow this code to run different voxel size for control and experimental image, but for a good experiment you should not do it like that. \n",
    "control_voxel_size = (361,75,75)\n",
    "voxel_size = (361,75,75)\n",
    "minimal_distance = (2,2,2)\n",
    "# Set the spot size as your expected spot size \n",
    "spot_size = (600, 300, 300)\n",
    "saveSpotInformation = True\n",
    "counterstain = True"
   ]
  },
  {
   "cell_type": "code",
   "execution_count": 51,
   "id": "ac5e8f4e-76e9-4854-a24a-ab11a72ca66d",
   "metadata": {},
   "outputs": [],
   "source": [
    "# Importing packages \n",
    "import glob\n",
    "import os \n",
    "import bigfish.detection \n",
    "import bigfish.plot\n",
    "import tifffile\n",
    "from tqdm import tqdm\n",
    "import numpy as np\n",
    "import seaborn as sns\n",
    "import matplotlib.pyplot as plt"
   ]
  },
  {
   "cell_type": "code",
   "execution_count": 31,
   "id": "c02016bd-421c-4bff-8482-9dd2f716a7ca",
   "metadata": {},
   "outputs": [],
   "source": [
    "# Here load functions \n",
    "# Function1 : Finding all file path\n",
    "def find_tif_files(directory, pattern=\"565.tif\"):\n",
    "    matches = []\n",
    "    # Walk through the directory and its subdirectories\n",
    "    for root, dirs, files in os.walk(directory):\n",
    "        for file in files:\n",
    "            if file.endswith(pattern):\n",
    "                matches.append(os.path.join(root, file))\n",
    "    return matches\n",
    "def create_folder_in_same_directory(file_path, folder_name):\n",
    "    \"\"\"\n",
    "    Creates a folder with the specified name in the same directory as the given file.\n",
    "    If the folder already exists, it returns the existing path.\n",
    "    \"\"\"\n",
    "    # Get the directory of the given file\n",
    "    directory = os.path.dirname(file_path)\n",
    "    \n",
    "    # Define the path for the specified folder\n",
    "    folder_path = os.path.join(directory, folder_name)\n",
    "    \n",
    "    # Check if the folder exists\n",
    "    if not os.path.exists(folder_path):\n",
    "        # Create the folder if it doesn't exist\n",
    "        os.makedirs(folder_path)\n",
    "        print(f\"Created '{folder_name}' folder at: {folder_path}\")\n",
    "    else:\n",
    "        print(f\"'{folder_name}' folder already exists at: {folder_path}\")\n",
    "    \n",
    "    return folder_path"
   ]
  },
  {
   "cell_type": "code",
   "execution_count": 48,
   "id": "fd311e94-6880-4a2f-8cb7-44b4ed1386ed",
   "metadata": {},
   "outputs": [
    {
     "name": "stderr",
     "output_type": "stream",
     "text": [
      "  0%|                                                     | 0/6 [00:00<?, ?it/s]"
     ]
    },
    {
     "name": "stdout",
     "output_type": "stream",
     "text": [
      "'results' folder already exists at: results\n"
     ]
    },
    {
     "name": "stderr",
     "output_type": "stream",
     "text": [
      " 17%|███████▌                                     | 1/6 [01:12<06:01, 72.26s/it]"
     ]
    },
    {
     "name": "stdout",
     "output_type": "stream",
     "text": [
      " threshold: 12.666666666666666\n",
      "'results' folder already exists at: results\n"
     ]
    },
    {
     "name": "stderr",
     "output_type": "stream",
     "text": [
      " 33%|███████████████                              | 2/6 [02:21<04:42, 70.57s/it]"
     ]
    },
    {
     "name": "stdout",
     "output_type": "stream",
     "text": [
      " threshold: 3.3333333333333335\n",
      "'results' folder already exists at: results\n"
     ]
    },
    {
     "name": "stderr",
     "output_type": "stream",
     "text": [
      " 50%|██████████████████████▌                      | 3/6 [03:53<04:00, 80.29s/it]"
     ]
    },
    {
     "name": "stdout",
     "output_type": "stream",
     "text": [
      " threshold: 12.212121212121213\n",
      "'results' folder already exists at: results\n"
     ]
    },
    {
     "name": "stderr",
     "output_type": "stream",
     "text": [
      " 67%|██████████████████████████████               | 4/6 [04:42<02:15, 67.95s/it]"
     ]
    },
    {
     "name": "stdout",
     "output_type": "stream",
     "text": [
      " threshold: 11.454545454545455\n",
      "'results' folder already exists at: results\n"
     ]
    },
    {
     "name": "stderr",
     "output_type": "stream",
     "text": [
      "/Users/eliasguan/anaconda3/envs/stardist-env/lib/python3.10/site-packages/bigfish/detection/spot_detection.py:586: RuntimeWarning: divide by zero encountered in log\n",
      "  count_spots = np.log([np.count_nonzero(value_spots > t)\n",
      " 83%|█████████████████████████████████████▌       | 5/6 [05:48<01:07, 67.16s/it]"
     ]
    },
    {
     "name": "stdout",
     "output_type": "stream",
     "text": [
      " threshold: 8.666666666666666\n",
      "'results' folder already exists at: results\n"
     ]
    },
    {
     "name": "stderr",
     "output_type": "stream",
     "text": [
      "100%|█████████████████████████████████████████████| 6/6 [06:54<00:00, 69.11s/it]"
     ]
    },
    {
     "name": "stdout",
     "output_type": "stream",
     "text": [
      " threshold: 10.02020202020202\n"
     ]
    },
    {
     "name": "stderr",
     "output_type": "stream",
     "text": [
      "\n"
     ]
    }
   ],
   "source": [
    "# If you have control image then read in control images \n",
    "if controlDirectory:\n",
    "    # Create threshold storage \n",
    "    controlThresholdCollection = []\n",
    "    # Finding all tif files in your directory\n",
    "    controlsmFISHChannelPaths = find_tif_files(controlDirectory,customFileName)\n",
    "    for i in tqdm(range(len(controlsmFISHChannelPaths))):\n",
    "        # Get your directory of each single file \n",
    "        file_directory = os.path.dirname(controlsmFISHChannelPaths[i])\n",
    "        # Move to current work directory\n",
    "        os.chdir(file_directory)\n",
    "        # Create results folder\n",
    "        create_folder_in_same_directory(\".\",\"results\")\n",
    "        # Aim to save everything in results folder\n",
    "        os.chdir(\"results\")\n",
    "        # Read in image\n",
    "        controlsmFISHChannel = tifffile.imread(controlsmFISHChannelPaths[i])\n",
    "        # Main Detection function \n",
    "        control_spots, control_spots_threshold = bigfish.detection.detect_spots(\n",
    "                images=controlsmFISHChannel,\n",
    "                return_threshold=True,\n",
    "                voxel_size= voxel_size,  # in nanometer (one value per dimension zyx)\n",
    "                spot_radius= spot_size, # in nanometer (one value per dimension zyx)\n",
    "                log_kernel_size= kernel_size,\n",
    "                minimum_distance= minimal_distance)\n",
    "        # Plot the elbow curve to make sure you have it saved. \n",
    "        bigfish.plot.plot_elbow(\n",
    "                images=controlsmFISHChannel,\n",
    "                voxel_size=voxel_size,\n",
    "                spot_radius=spot_size,\n",
    "                path_output=\"Elbow.png\",\n",
    "                show=False)\n",
    "        # Add the threshold to your storage\n",
    "        controlThresholdCollection.append(control_spots_threshold)\n",
    "        # Print out the threshold\n",
    "        print(\"threshold: {0}\".format(control_spots_threshold))"
   ]
  },
  {
   "cell_type": "code",
   "execution_count": 49,
   "id": "52d5c080-c9a3-4511-bb78-3265a740476f",
   "metadata": {},
   "outputs": [
    {
     "name": "stderr",
     "output_type": "stream",
     "text": [
      "  0%|                                                    | 0/16 [00:00<?, ?it/s]"
     ]
    },
    {
     "name": "stdout",
     "output_type": "stream",
     "text": [
      "'results' folder already exists at: results\n"
     ]
    },
    {
     "name": "stderr",
     "output_type": "stream",
     "text": [
      "  6%|██▊                                         | 1/16 [01:04<16:06, 64.45s/it]"
     ]
    },
    {
     "name": "stdout",
     "output_type": "stream",
     "text": [
      "threshold: 1.9797979797979797\n",
      "'results' folder already exists at: results\n"
     ]
    },
    {
     "name": "stderr",
     "output_type": "stream",
     "text": [
      " 12%|█████▏                                   | 2/16 [07:46<1:01:21, 262.94s/it]"
     ]
    },
    {
     "name": "stdout",
     "output_type": "stream",
     "text": [
      "threshold: 12.01010101010101\n",
      "'results' folder already exists at: results\n"
     ]
    },
    {
     "name": "stderr",
     "output_type": "stream",
     "text": [
      " 19%|████████                                   | 3/16 [09:28<41:01, 189.34s/it]"
     ]
    },
    {
     "name": "stdout",
     "output_type": "stream",
     "text": [
      "threshold: 11.424242424242424\n",
      "'results' folder already exists at: results\n"
     ]
    },
    {
     "name": "stderr",
     "output_type": "stream",
     "text": [
      " 25%|██████████▊                                | 4/16 [11:18<31:35, 158.00s/it]"
     ]
    },
    {
     "name": "stdout",
     "output_type": "stream",
     "text": [
      "threshold: 12.323232323232322\n",
      "'results' folder already exists at: results\n"
     ]
    },
    {
     "name": "stderr",
     "output_type": "stream",
     "text": [
      " 31%|█████████████▍                             | 5/16 [19:53<52:36, 286.93s/it]"
     ]
    },
    {
     "name": "stdout",
     "output_type": "stream",
     "text": [
      "threshold: 13.080808080808081\n",
      "'results' folder already exists at: results\n"
     ]
    },
    {
     "name": "stderr",
     "output_type": "stream",
     "text": [
      " 38%|████████████████▏                          | 6/16 [21:49<38:06, 228.63s/it]"
     ]
    },
    {
     "name": "stdout",
     "output_type": "stream",
     "text": [
      "threshold: 9.0\n",
      "'results' folder already exists at: results\n"
     ]
    },
    {
     "name": "stderr",
     "output_type": "stream",
     "text": [
      " 44%|██████████████████▊                        | 7/16 [24:50<32:00, 213.35s/it]"
     ]
    },
    {
     "name": "stdout",
     "output_type": "stream",
     "text": [
      "threshold: 10.181818181818182\n",
      "'results' folder already exists at: results\n"
     ]
    },
    {
     "name": "stderr",
     "output_type": "stream",
     "text": [
      " 50%|█████████████████████▌                     | 8/16 [37:22<51:16, 384.55s/it]"
     ]
    },
    {
     "name": "stdout",
     "output_type": "stream",
     "text": [
      "threshold: 9.818181818181817\n",
      "'results' folder already exists at: results\n"
     ]
    },
    {
     "name": "stderr",
     "output_type": "stream",
     "text": [
      " 56%|████████████████████████▏                  | 9/16 [50:36<59:48, 512.58s/it]"
     ]
    },
    {
     "name": "stdout",
     "output_type": "stream",
     "text": [
      "threshold: 2.404040404040404\n",
      "'results' folder already exists at: results\n"
     ]
    },
    {
     "name": "stderr",
     "output_type": "stream",
     "text": [
      " 62%|██████████████████████████▎               | 10/16 [58:45<50:33, 505.56s/it]"
     ]
    },
    {
     "name": "stdout",
     "output_type": "stream",
     "text": [
      "threshold: 11.11111111111111\n",
      "'results' folder already exists at: results\n"
     ]
    },
    {
     "name": "stderr",
     "output_type": "stream",
     "text": [
      " 69%|███████████████████████████▌            | 11/16 [1:17:30<57:55, 695.08s/it]"
     ]
    },
    {
     "name": "stdout",
     "output_type": "stream",
     "text": [
      "threshold: 13.787878787878789\n",
      "'results' folder already exists at: results\n"
     ]
    },
    {
     "name": "stderr",
     "output_type": "stream",
     "text": [
      " 75%|██████████████████████████████          | 12/16 [1:26:27<43:07, 646.86s/it]"
     ]
    },
    {
     "name": "stdout",
     "output_type": "stream",
     "text": [
      "threshold: 11.313131313131313\n",
      "'results' folder already exists at: results\n"
     ]
    },
    {
     "name": "stderr",
     "output_type": "stream",
     "text": [
      " 81%|████████████████████████████████▌       | 13/16 [1:35:01<30:19, 606.63s/it]"
     ]
    },
    {
     "name": "stdout",
     "output_type": "stream",
     "text": [
      "threshold: 9.95959595959596\n",
      "'results' folder already exists at: results\n"
     ]
    },
    {
     "name": "stderr",
     "output_type": "stream",
     "text": [
      " 88%|███████████████████████████████████     | 14/16 [1:53:00<24:58, 749.36s/it]"
     ]
    },
    {
     "name": "stdout",
     "output_type": "stream",
     "text": [
      "threshold: 12.767676767676768\n",
      "'results' folder already exists at: results\n"
     ]
    },
    {
     "name": "stderr",
     "output_type": "stream",
     "text": [
      " 94%|█████████████████████████████████████▌  | 15/16 [2:03:35<11:54, 714.86s/it]"
     ]
    },
    {
     "name": "stdout",
     "output_type": "stream",
     "text": [
      "threshold: 14.727272727272728\n",
      "'results' folder already exists at: results\n"
     ]
    },
    {
     "name": "stderr",
     "output_type": "stream",
     "text": [
      "100%|████████████████████████████████████████| 16/16 [2:14:12<00:00, 503.28s/it]"
     ]
    },
    {
     "name": "stdout",
     "output_type": "stream",
     "text": [
      "threshold: 10.757575757575758\n"
     ]
    },
    {
     "name": "stderr",
     "output_type": "stream",
     "text": [
      "\n"
     ]
    }
   ],
   "source": [
    "# Create your collection for experiment group thresholds\n",
    "experimentThresholdCollection = []\n",
    "#  Find all files for your experiment group\n",
    "experimentsmFISHChannelPaths = find_tif_files(experimentDirectory, customFileName)\n",
    "for i in tqdm(range(len(experimentsmFISHChannelPaths))):\n",
    "    # Same as previous code. \n",
    "    file_directory = os.path.dirname(experimentsmFISHChannelPaths[i])\n",
    "    os.chdir(file_directory)\n",
    "    create_folder_in_same_directory(\".\",\"results\")\n",
    "    os.chdir(\"results\")\n",
    "    experimentsmFISHChannel = tifffile.imread(experimentsmFISHChannelPaths[i])\n",
    "    # Function to find your spots and threshold \n",
    "    experiment_spots, experiment_spots_threshold = bigfish.detection.detect_spots(\n",
    "            images=experimentsmFISHChannel,\n",
    "            return_threshold=True,\n",
    "            voxel_size= voxel_size,  # in nanometer (one value per dimension zyx)\n",
    "            spot_radius= spot_size, # in nanometer (one value per dimension zyx)\n",
    "            log_kernel_size= kernel_size,\n",
    "            minimum_distance= minimal_distance)\n",
    "    # Plot your elbow curve\n",
    "    bigfish.plot.plot_elbow(\n",
    "            images=experimentsmFISHChannel,\n",
    "            voxel_size=voxel_size,\n",
    "            spot_radius=spot_size,\n",
    "            path_output=\"Elbow.png\",\n",
    "            show=False)\n",
    "    # Add your threshold to your collection \n",
    "    experimentThresholdCollection.append(experiment_spots_threshold)\n",
    "    # Save the spots here for future works. \n",
    "    print(\"threshold: {0}\".format(experiment_spots_threshold))\n",
    "    if saveSpotInformation == True:\n",
    "         with open (\"spot_info.txt\",\"w\") as file :\n",
    "             file.write(\"\\r shape: {0}\".format(experiment_spots.shape))\n",
    "             file.write(\"\\r dtype: {0}\".format(experiment_spots.dtype))\n",
    "             file.write(\"\\r threshold: {0}\".format(experiment_spots_threshold))"
   ]
  },
  {
   "cell_type": "code",
   "execution_count": 54,
   "id": "d84938c6-4965-4576-8ec6-81bf0ccf9dff",
   "metadata": {},
   "outputs": [
    {
     "data": {
      "image/png": "[encoded data removed]",
      "text/plain": [
       "<Figure size 800x600 with 1 Axes>"
      ]
     },
     "metadata": {},
     "output_type": "display_data"
    }
   ],
   "source": [
    "thresholds = [controlThresholdCollection, experimentThresholdCollection]\n",
    "labels = ['control group Threshold', \"Experiment group Threshold\"]\n",
    "plt.figure(figsize=(8, 6))\n",
    "sns.boxplot(data=thresholds)\n",
    "\n",
    "# Add title\n",
    "plt.title(\"Threshold for Spot Detection\")\n",
    "\n",
    "# Calculate and annotate mean values\n",
    "for i, dataset in enumerate(thresholds):\n",
    "    mean_value = np.mean(dataset)\n",
    "    plt.text(i, mean_value, f'Mean: {mean_value:.2f}', \n",
    "             ha='center', va='bottom', color='black')\n",
    "\n",
    "# Set x-ticks\n",
    "plt.xticks(ticks=[0, 1], labels=labels)\n",
    "\n",
    "# Display the plot\n",
    "plt.show()"
   ]
  },
  {
   "cell_type": "code",
   "execution_count": 59,
   "id": "a086f43f-2d31-434f-8e51-63120f1e2bf8",
   "metadata": {},
   "outputs": [
    {
     "name": "stderr",
     "output_type": "stream",
     "text": [
      "  0%|                                                    | 0/16 [00:00<?, ?it/s]"
     ]
    },
    {
     "name": "stdout",
     "output_type": "stream",
     "text": [
      "Created 'results' folder at: results\n"
     ]
    },
    {
     "name": "stderr",
     "output_type": "stream",
     "text": [
      "  6%|██▊                                         | 1/16 [00:40<10:10, 40.72s/it]"
     ]
    },
    {
     "name": "stdout",
     "output_type": "stream",
     "text": [
      "threshold: 19.636363636363637\n",
      "Created 'results' folder at: results\n"
     ]
    },
    {
     "name": "stderr",
     "output_type": "stream",
     "text": [
      " 12%|█████▏                                   | 2/16 [07:30<1:00:10, 257.89s/it]"
     ]
    },
    {
     "name": "stdout",
     "output_type": "stream",
     "text": [
      "threshold: 6.222222222222222\n",
      "Created 'results' folder at: results\n"
     ]
    },
    {
     "name": "stderr",
     "output_type": "stream",
     "text": [
      " 19%|████████                                   | 3/16 [09:11<40:20, 186.21s/it]"
     ]
    },
    {
     "name": "stdout",
     "output_type": "stream",
     "text": [
      "threshold: 17.67676767676768\n",
      "Created 'results' folder at: results\n"
     ]
    },
    {
     "name": "stderr",
     "output_type": "stream",
     "text": [
      " 25%|██████████▊                                | 4/16 [11:05<31:31, 157.65s/it]"
     ]
    },
    {
     "name": "stdout",
     "output_type": "stream",
     "text": [
      "threshold: 8.98989898989899\n",
      "Created 'results' folder at: results\n"
     ]
    },
    {
     "name": "stderr",
     "output_type": "stream",
     "text": [
      " 31%|█████████████▍                             | 5/16 [19:58<53:42, 292.98s/it]"
     ]
    },
    {
     "name": "stdout",
     "output_type": "stream",
     "text": [
      "threshold: 5.8686868686868685\n",
      "Created 'results' folder at: results\n"
     ]
    },
    {
     "name": "stderr",
     "output_type": "stream",
     "text": [
      " 38%|████████████████▏                          | 6/16 [21:51<38:39, 231.98s/it]"
     ]
    },
    {
     "name": "stdout",
     "output_type": "stream",
     "text": [
      "threshold: 4.848484848484849\n",
      "Created 'results' folder at: results\n"
     ]
    },
    {
     "name": "stderr",
     "output_type": "stream",
     "text": [
      " 44%|██████████████████▊                        | 7/16 [24:52<32:15, 215.07s/it]"
     ]
    },
    {
     "name": "stdout",
     "output_type": "stream",
     "text": [
      "threshold: 4.787878787878788\n",
      "Created 'results' folder at: results\n"
     ]
    },
    {
     "name": "stderr",
     "output_type": "stream",
     "text": [
      " 50%|█████████████████████▌                     | 8/16 [37:04<50:38, 379.83s/it]"
     ]
    },
    {
     "name": "stdout",
     "output_type": "stream",
     "text": [
      "threshold: 13.85858585858586\n",
      "Created 'results' folder at: results\n"
     ]
    },
    {
     "name": "stderr",
     "output_type": "stream",
     "text": [
      " 56%|████████████████████████▏                  | 9/16 [44:50<47:26, 406.66s/it]"
     ]
    },
    {
     "name": "stdout",
     "output_type": "stream",
     "text": [
      "threshold: 11.555555555555555\n",
      "Created 'results' folder at: results\n"
     ]
    },
    {
     "name": "stderr",
     "output_type": "stream",
     "text": [
      " 62%|██████████████████████████▎               | 10/16 [54:34<46:09, 461.52s/it]"
     ]
    },
    {
     "name": "stdout",
     "output_type": "stream",
     "text": [
      "threshold: 7.090909090909091\n",
      "Created 'results' folder at: results\n"
     ]
    },
    {
     "name": "stderr",
     "output_type": "stream",
     "text": [
      " 69%|███████████████████████████▌            | 11/16 [1:14:54<57:48, 693.63s/it]"
     ]
    },
    {
     "name": "stdout",
     "output_type": "stream",
     "text": [
      "threshold: 6.151515151515151\n",
      "Created 'results' folder at: results\n"
     ]
    },
    {
     "name": "stderr",
     "output_type": "stream",
     "text": [
      " 75%|██████████████████████████████          | 12/16 [1:25:05<44:33, 668.37s/it]"
     ]
    },
    {
     "name": "stdout",
     "output_type": "stream",
     "text": [
      "threshold: 5.03030303030303\n",
      "Created 'results' folder at: results\n"
     ]
    },
    {
     "name": "stderr",
     "output_type": "stream",
     "text": [
      " 81%|████████████████████████████████▌       | 13/16 [1:35:38<32:52, 657.61s/it]"
     ]
    },
    {
     "name": "stdout",
     "output_type": "stream",
     "text": [
      "threshold: 5.797979797979798\n",
      "Created 'results' folder at: results\n"
     ]
    },
    {
     "name": "stderr",
     "output_type": "stream",
     "text": [
      " 88%|███████████████████████████████████     | 14/16 [1:57:43<28:38, 859.21s/it]"
     ]
    },
    {
     "name": "stdout",
     "output_type": "stream",
     "text": [
      "threshold: 8.787878787878787\n",
      "Created 'results' folder at: results\n"
     ]
    },
    {
     "name": "stderr",
     "output_type": "stream",
     "text": [
      " 94%|█████████████████████████████████████▌  | 15/16 [2:10:02<13:42, 822.95s/it]"
     ]
    },
    {
     "name": "stdout",
     "output_type": "stream",
     "text": [
      "threshold: 6.363636363636363\n",
      "Created 'results' folder at: results\n"
     ]
    },
    {
     "name": "stderr",
     "output_type": "stream",
     "text": [
      "100%|████████████████████████████████████████| 16/16 [2:20:35<00:00, 527.19s/it]"
     ]
    },
    {
     "name": "stdout",
     "output_type": "stream",
     "text": [
      "threshold: 19.28282828282828\n"
     ]
    },
    {
     "name": "stderr",
     "output_type": "stream",
     "text": [
      "\n"
     ]
    }
   ],
   "source": [
    "# Create your collection for counterstain group thresholds\n",
    "if counterstain:\n",
    "    counterstainThresholdCollection = []\n",
    "    #  Find all files for your counterstain group\n",
    "    counterstainsmFISHChannelPaths = find_tif_files(counterstainDirectory, counterstainFileName)\n",
    "    for i in tqdm(range(len(counterstainsmFISHChannelPaths))):\n",
    "        # Same as previous code. \n",
    "        file_directory = os.path.dirname(counterstainsmFISHChannelPaths[i])\n",
    "        os.chdir(file_directory)\n",
    "        create_folder_in_same_directory(\".\",\"results\")\n",
    "        os.chdir(\"results\")\n",
    "        counterstainsmFISHChannel = tifffile.imread(counterstainsmFISHChannelPaths[i])\n",
    "        # Function to find your spots and threshold \n",
    "        counterstain_spots, counterstain_spots_threshold = bigfish.detection.detect_spots(\n",
    "                images=counterstainsmFISHChannel,\n",
    "                return_threshold=True,\n",
    "                voxel_size= voxel_size,  # in nanometer (one value per dimension zyx)\n",
    "                spot_radius= spot_size, # in nanometer (one value per dimension zyx)\n",
    "                log_kernel_size= kernel_size,\n",
    "                minimum_distance= minimal_distance)\n",
    "        # Plot your elbow curve\n",
    "        bigfish.plot.plot_elbow(\n",
    "                images=counterstainsmFISHChannel,\n",
    "                voxel_size=voxel_size,\n",
    "                spot_radius=spot_size,\n",
    "                path_output=\"Elbow.png\",\n",
    "                show=False)\n",
    "        # Add your threshold to your collection \n",
    "        counterstainThresholdCollection.append(counterstain_spots_threshold)\n",
    "        # Save the spots here for future works. \n",
    "        print(\"threshold: {0}\".format(counterstain_spots_threshold))"
   ]
  },
  {
   "cell_type": "code",
   "execution_count": 61,
   "id": "77172157-bde9-4476-a186-aa5c494c94ce",
   "metadata": {},
   "outputs": [
    {
     "data": {
      "image/png": "[encoded data removed]",
      "text/plain": [
       "<Figure size 800x600 with 1 Axes>"
      ]
     },
     "metadata": {},
     "output_type": "display_data"
    }
   ],
   "source": [
    "thresholds = [controlThresholdCollection, experimentThresholdCollection, counterstainThresholdCollection]\n",
    "labels = ['control group Threshold', \"Experiment group Threshold\", \"Counterstain Threshold\"]\n",
    "plt.figure(figsize=(8, 6))\n",
    "sns.boxplot(data=thresholds)\n",
    "\n",
    "# Add title\n",
    "plt.title(\"Threshold for Spot Detection\")\n",
    "\n",
    "# Calculate and annotate mean values\n",
    "for i, dataset in enumerate(thresholds):\n",
    "    mean_value = np.mean(dataset)\n",
    "    plt.text(i, mean_value, f'Mean: {mean_value:.2f}', \n",
    "             ha='center', va='bottom', color='black')\n",
    "\n",
    "# Set x-ticks\n",
    "plt.xticks(ticks=[0, 1, 2], labels=labels)\n",
    "\n",
    "# Display the plot\n",
    "plt.show()"
   ]
  },
  {
   "cell_type": "code",
   "execution_count": 65,
   "id": "01a8a429-db44-4b40-8dac-295b75219143",
   "metadata": {},
   "outputs": [
    {
     "name": "stderr",
     "output_type": "stream",
     "text": [
      "  0%|                                                     | 0/6 [00:00<?, ?it/s]"
     ]
    },
    {
     "name": "stdout",
     "output_type": "stream",
     "text": [
      "'results' folder already exists at: results\n"
     ]
    },
    {
     "name": "stderr",
     "output_type": "stream",
     "text": [
      " 17%|███████▌                                     | 1/6 [01:11<05:58, 71.77s/it]"
     ]
    },
    {
     "name": "stdout",
     "output_type": "stream",
     "text": [
      "threshold: 8.98989898989899\n",
      "'results' folder already exists at: results\n"
     ]
    },
    {
     "name": "stderr",
     "output_type": "stream",
     "text": [
      " 33%|███████████████                              | 2/6 [02:11<04:17, 64.40s/it]"
     ]
    },
    {
     "name": "stdout",
     "output_type": "stream",
     "text": [
      "threshold: 19.151515151515152\n",
      "'results' folder already exists at: results\n"
     ]
    },
    {
     "name": "stderr",
     "output_type": "stream",
     "text": [
      " 50%|██████████████████████▌                      | 3/6 [03:45<03:54, 78.00s/it]"
     ]
    },
    {
     "name": "stdout",
     "output_type": "stream",
     "text": [
      "threshold: 5.797979797979798\n",
      "'results' folder already exists at: results\n"
     ]
    },
    {
     "name": "stderr",
     "output_type": "stream",
     "text": [
      " 67%|██████████████████████████████               | 4/6 [04:35<02:14, 67.15s/it]"
     ]
    },
    {
     "name": "stdout",
     "output_type": "stream",
     "text": [
      "threshold: 5.545454545454545\n",
      "'results' folder already exists at: results\n"
     ]
    },
    {
     "name": "stderr",
     "output_type": "stream",
     "text": [
      " 83%|█████████████████████████████████████▌       | 5/6 [05:42<01:07, 67.02s/it]"
     ]
    },
    {
     "name": "stdout",
     "output_type": "stream",
     "text": [
      "threshold: 4.96969696969697\n",
      "'results' folder already exists at: results\n"
     ]
    },
    {
     "name": "stderr",
     "output_type": "stream",
     "text": [
      "100%|█████████████████████████████████████████████| 6/6 [06:50<00:00, 68.34s/it]"
     ]
    },
    {
     "name": "stdout",
     "output_type": "stream",
     "text": [
      "threshold: 5.2727272727272725\n"
     ]
    },
    {
     "name": "stderr",
     "output_type": "stream",
     "text": [
      "\n"
     ]
    }
   ],
   "source": [
    "# Create your collection for counterstain group thresholds\n",
    "if counterstain:\n",
    "    counterstainControlThresholdCollection = []\n",
    "    #  Find all files for your counterstain group\n",
    "    counterstainControlsmFISHChannelPaths = find_tif_files(controlDirectory, counterstainFileName)\n",
    "    for i in tqdm(range(len(counterstainControlsmFISHChannelPaths))):\n",
    "        # Same as previous code. \n",
    "        file_directory = os.path.dirname(counterstainControlsmFISHChannelPaths[i])\n",
    "        os.chdir(file_directory)\n",
    "        create_folder_in_same_directory(\".\",\"results\")\n",
    "        os.chdir(\"results\")\n",
    "        counterstainControlsmFISHChannel = tifffile.imread(counterstainControlsmFISHChannelPaths[i])\n",
    "        # Function to find your spots and threshold \n",
    "        counterstainControl_spots, counterstainControl_spots_threshold = bigfish.detection.detect_spots(\n",
    "                images=counterstainControlsmFISHChannel,\n",
    "                return_threshold=True,\n",
    "                voxel_size= voxel_size,  # in nanometer (one value per dimension zyx)\n",
    "                spot_radius= spot_size, # in nanometer (one value per dimension zyx)\n",
    "                log_kernel_size= kernel_size,\n",
    "                minimum_distance= minimal_distance)\n",
    "        # Plot your elbow curve\n",
    "        bigfish.plot.plot_elbow(\n",
    "                images=counterstainControlsmFISHChannel,\n",
    "                voxel_size=voxel_size,\n",
    "                spot_radius=spot_size,\n",
    "                path_output=\"Elbow.png\",\n",
    "                show=False)\n",
    "        # Add your threshold to your collection \n",
    "        counterstainControlThresholdCollection.append(counterstainControl_spots_threshold)\n",
    "        # Save the spots here for future works. \n",
    "        print(\"threshold: {0}\".format(counterstainControl_spots_threshold))"
   ]
  },
  {
   "cell_type": "code",
   "execution_count": 1,
   "id": "4305158b-d090-487c-8f78-bcf48eb4d72f",
   "metadata": {},
   "outputs": [
    {
     "ename": "NameError",
     "evalue": "name 'controlThresholdCollection' is not defined",
     "output_type": "error",
     "traceback": [
      "\u001b[0;31m---------------------------------------------------------------------------\u001b[0m",
      "\u001b[0;31mNameError\u001b[0m                                 Traceback (most recent call last)",
      "Cell \u001b[0;32mIn[1], line 1\u001b[0m\n\u001b[0;32m----> 1\u001b[0m thresholds \u001b[38;5;241m=\u001b[39m [\u001b[43mcontrolThresholdCollection\u001b[49m, experimentThresholdCollection, counterstainControlThresholdCollection, counterstainThresholdCollection]\n\u001b[1;32m      2\u001b[0m labels \u001b[38;5;241m=\u001b[39m [\u001b[38;5;124m'\u001b[39m\u001b[38;5;124mcontrol group Threshold\u001b[39m\u001b[38;5;124m'\u001b[39m, \u001b[38;5;124m\"\u001b[39m\u001b[38;5;124mExperiment group Threshold\u001b[39m\u001b[38;5;124m\"\u001b[39m, \u001b[38;5;124m\"\u001b[39m\u001b[38;5;124mCounterstain Control Threshold\u001b[39m\u001b[38;5;124m\"\u001b[39m, \u001b[38;5;124m\"\u001b[39m\u001b[38;5;124mCounterstain Threshold\u001b[39m\u001b[38;5;124m\"\u001b[39m]\n\u001b[1;32m      3\u001b[0m plt\u001b[38;5;241m.\u001b[39mfigure(figsize\u001b[38;5;241m=\u001b[39m(\u001b[38;5;241m10\u001b[39m, \u001b[38;5;241m6\u001b[39m))\n",
      "\u001b[0;31mNameError\u001b[0m: name 'controlThresholdCollection' is not defined"
     ]
    }
   ],
   "source": [
    "thresholds = [controlThresholdCollection, experimentThresholdCollection, counterstainControlThresholdCollection, counterstainThresholdCollection]\n",
    "labels = ['control group Threshold', \"Experiment group Threshold\", \"Counterstain Control Threshold\", \"Counterstain Threshold\"]\n",
    "plt.figure(figsize=(10, 6))\n",
    "sns.boxplot(data=thresholds)\n",
    "\n",
    "# Add title\n",
    "plt.title(\"Threshold for Spot Detection\")\n",
    "\n",
    "# Calculate and annotate mean values\n",
    "for i, dataset in enumerate(thresholds):\n",
    "    mean_value = np.mean(dataset)\n",
    "    plt.text(i, mean_value, f'Mean: {mean_value:.2f}', \n",
    "             ha='center', va='bottom', color='black')\n",
    "\n",
    "# Set x-ticks\n",
    "plt.xticks(ticks=[0, 1, 2, 3], labels=labels)\n",
    "\n",
    "# Display the plot\n",
    "plt.show()"
   ]
  },
  {
   "cell_type": "code",
   "execution_count": null,
   "id": "a191cdcf-3dab-4e4a-b217-51626b926f85",
   "metadata": {},
   "outputs": [],
   "source": []
  }
 ],
 "metadata": {
  "kernelspec": {
   "display_name": "stardist-env",
   "language": "python",
   "name": "stardist-env"
  },
  "language_info": {
   "codemirror_mode": {
    "name": "ipython",
    "version": 3
   },
   "file_extension": ".py",
   "mimetype": "text/x-python",
   "name": "python",
   "nbconvert_exporter": "python",
   "pygments_lexer": "ipython3",
   "version": "3.10.14"
  }
 },
 "nbformat": 4,
 "nbformat_minor": 5
}
