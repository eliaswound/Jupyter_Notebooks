{
 "cells": [
  {
   "cell_type": "code",
   "execution_count": 201,
   "id": "26f5c9ec-f909-438e-bc18-d67e615249b6",
   "metadata": {},
   "outputs": [],
   "source": [
    "smFISHChannelPath = \"/Users/eliasguan/Desktop/EG_0920_Test_wnt1_incision_amputation/Experiment_dataset/Experiment/12h_Incision/Image3/565/12h_Incision_Image3_565.tif\"\n",
    "counterstainChannelPath = \"/Users/eliasguan/Desktop/EG_0920_Test_wnt1_incision_amputation/Experiment_dataset/Experiment/12h_Incision/Image3/633/12h_Incision_Image3_633.tif\"\n",
    "nucleiExpansionPath = \"/Users/eliasguan/Desktop/EG_0920_Test_wnt1_incision_amputation/Experiment_dataset/Experiment/12h_Incision/Image3/633/results/expanded_labels\"\n",
    "counterstainAssignmentPath = \"/Users/eliasguan/Desktop/EG_0920_Test_wnt1_incision_amputation/Experiment_dataset/Experiment/12h_Incision/Image3/633/results/counterstain_labels\"\n",
    "nuclei_projection_size = 10"
   ]
  },
  {
   "cell_type": "code",
   "execution_count": 202,
   "id": "226e2716-0204-46b5-906b-b4c11478c30c",
   "metadata": {},
   "outputs": [],
   "source": [
    "# This part is for importing all the functions for smFISH detection. Please install them if you dont have these pacakges. \n",
    "import os\n",
    "import sys\n",
    "# import tk for getting the directory faster. dont need this in a command line/server version\n",
    "import tkinter as tk\n",
    "from tkinter import *\n",
    "from tkinter import filedialog\n",
    "import numpy as np\n",
    "import bigfish.detection \n",
    "import bigfish.stack\n",
    "import bigfish.plot\n",
    "from tqdm import tqdm\n",
    "import seaborn as sns\n",
    "import matplotlib.pyplot as plt\n",
    "import csv\n",
    "import random\n",
    "import math\n",
    "import json\n",
    "# if you dont need to plot in jupyter you don need these. Some magic interperters need to be removed for command line version. \n",
    "import matplotlib\n",
    "matplotlib.rcParams[\"image.interpolation\"] = 'none'\n",
    "import matplotlib.pyplot as plt\n",
    "%matplotlib inline\n",
    "%config InlineBackend.figure_format = 'retina'\n",
    "# Glob and tifffile are needed\n",
    "from glob import glob\n",
    "from tifffile import imread,imwrite\n",
    "# csb deep is to take normalization \n",
    "from csbdeep.utils import Path, normalize\n",
    "from csbdeep.io import save_tiff_imagej_compatible\n",
    "# This is your stardist models and everything in stardist coming from. \n",
    "from stardist import random_label_cmap, _draw_polygons, export_imagej_rois\n",
    "from stardist.models import StarDist2D\n",
    "from skimage import segmentation\n",
    "import bigfish.multistack as multistack\n",
    "# Set random seed for you color map. You do not really need this to be 6 all the time, but its okay. \n",
    "np.random.seed(6)\n",
    "lbl_cmap = random_label_cmap()"
   ]
  },
  {
   "cell_type": "code",
   "execution_count": 203,
   "id": "74067af6-dfd0-4b4f-b0ff-f4677201d79e",
   "metadata": {},
   "outputs": [],
   "source": [
    "def load_npy_file(filename):\n",
    "    try:\n",
    "        data = np.load(filename)\n",
    "        print(f\"Loaded {filename} successfully.\")\n",
    "        return data\n",
    "    except FileNotFoundError:\n",
    "        print(f\"{filename} not found.\")\n",
    "    except Exception as e:\n",
    "        print(f\"Error loading {filename}: {e}\")\n",
    "    return None\n",
    "def create_folder_in_same_directory(file_path, folder_name):\n",
    "    \"\"\"\n",
    "    Creates a folder with the specified name in the same directory as the given file.\n",
    "    If the folder already exists, it returns the existing path.\n",
    "    \"\"\"\n",
    "    # Get the directory of the given file\n",
    "    directory = os.path.dirname(file_path)\n",
    "    \n",
    "    # Define the path for the specified folder\n",
    "    folder_path = os.path.join(directory, folder_name)\n",
    "    \n",
    "    # Check if the folder exists\n",
    "    if not os.path.exists(folder_path):\n",
    "        # Create the folder if it doesn't exist\n",
    "        os.makedirs(folder_path)\n",
    "        print(f\"Created '{folder_name}' folder at: {folder_path}\")\n",
    "    else:\n",
    "        print(f\"'{folder_name}' folder already exists at: {folder_path}\")\n",
    "    \n",
    "    return folder_path"
   ]
  },
  {
   "cell_type": "code",
   "execution_count": 204,
   "id": "9c153615-07ec-451f-b462-54194cdcad8e",
   "metadata": {},
   "outputs": [],
   "source": [
    "def assign_spots_to_labels(spot_array, label_array, expansion = False, foldername = \"labels\"):\n",
    "    create_folder_in_same_directory(\".\",foldername)\n",
    "    create_folder_in_same_directory(\".\",foldername+\"assignment_map\")\n",
    "    spot_in_background = []\n",
    "    assignment_results = []\n",
    "    for i in range(len(label_array)):\n",
    "        # Expanding labels \n",
    "        if expansion: \n",
    "            labels = segmentation.expand_labels(label_array[i], distance=expansion)\n",
    "        else:\n",
    "            labels = label_array[i]\n",
    "        # Find your spots belong to this projection \n",
    "        indices = np.where(spot_array[:, 0] == i)[0]\n",
    "        # Remove the z-stack information from your RNA detection\n",
    "        rna_coord = spot_array[indices][:, -2:]\n",
    "        # Data type configureation. Changing dtype will probablly \n",
    "        # Get you more compatible with bigfish also makes calculation easier\n",
    "        labels = labels.astype(dtype=np.uint16)\n",
    "        rna_coord = rna_coord.astype(dtype=\"int64\")\n",
    "        # Save your expanded labels \n",
    "        imwrite(foldername+'label'+str(i).zfill(3)+'.tif', labels, photometric = 'minisblack')\n",
    "        # Get cell RNA counter as a zero array \n",
    "        cell_RNACount = np.zeros(np.max(labels)+1)\n",
    "        # Iterate through your RNA coordinates \n",
    "        for item in rna_coord:\n",
    "            # Find the value of this RNA center spot\n",
    "            location = labels[item[0],item[1]]\n",
    "            # Add on to your RNA counter\n",
    "            cell_RNACount[location] = cell_RNACount[location]+1\n",
    "        # Add your results to your collection\n",
    "        assignment_results.append(cell_RNACount)\n",
    "        # Create empty assignment maps \n",
    "        assignment_map = np.zeros(labels.shape, dtype = np.uint8)\n",
    "        # Create your maps \n",
    "        for j in tqdm(range(1,len(cell_RNACount))):\n",
    "            indices = np.where(labels == j)\n",
    "            assignment_map[indices] = cell_RNACount[j]\n",
    "        spot_in_background.append(cell_RNACount[0])\n",
    "        imwrite(foldername+'assignment_map/'+foldername+'assignment_map'+str(i).zfill(3)+'.tif', assignment_map, photometric = 'minisblack')\n",
    "    return spot_in_background, assignment_results"
   ]
  },
  {
   "cell_type": "code",
   "execution_count": 205,
   "id": "e320f45b-59c7-4d3f-a4e7-220b94aa8469",
   "metadata": {},
   "outputs": [
    {
     "name": "stdout",
     "output_type": "stream",
     "text": [
      "Loaded spots_post_decomposition_and_background_removed.npy successfully.\n"
     ]
    }
   ],
   "source": [
    "os.chdir(os.path.dirname(smFISHChannelPath))\n",
    "os.chdir(\"results\")\n",
    "# Read in your counterstain spots file \n",
    "# File names\n",
    "file_A = 'spots_post_decomposition_and_background_removed.npy'\n",
    "file_B = 'spots_post_decomposition.npy'\n",
    "\n",
    "# Try loading A, fallback to B if A fails\n",
    "post_decomposition_array = load_npy_file(file_A)\n",
    "if post_decomposition_array is None:\n",
    "    post_decomposition_array = load_npy_file(file_B)\n",
    "post_decomposition_array_projected = np.copy(post_decomposition_array)  # Create a copy of the original array\n",
    "post_decomposition_array_projected[:, 0] = np.floor_divide(post_decomposition_array[:, 0], nuclei_projection_size)"
   ]
  },
  {
   "cell_type": "code",
   "execution_count": 206,
   "id": "8164d799-d9ac-4bd4-9072-5ac51f6e2bf5",
   "metadata": {},
   "outputs": [],
   "source": [
    "os.chdir(nucleiExpansionPath)\n",
    "nucleiFileNames = sorted(glob(\"*.tif\"))\n",
    "nucleiExpandedArray_projected_labels = []\n",
    "for item in nucleiFileNames:\n",
    "    nucleiImage = imread(item)\n",
    "    nucleiExpandedArray_projected_labels.append(nucleiImage)"
   ]
  },
  {
   "cell_type": "code",
   "execution_count": 207,
   "id": "ee842b97-967e-460c-933a-2a9d2b891ffd",
   "metadata": {},
   "outputs": [],
   "source": [
    "os.chdir(counterstainAssignmentPath)\n",
    "counterstainFileNames = sorted(glob(\"*.tif\"))\n",
    "counterstain_Assignment_labels = []\n",
    "for item in counterstainFileNames:\n",
    "    counterstainLabels = imread(item)\n",
    "    counterstain_Assignment_labels.append(counterstainLabels)"
   ]
  },
  {
   "cell_type": "code",
   "execution_count": 208,
   "id": "c1aee60b-89d7-408e-8a0b-89224ee30297",
   "metadata": {},
   "outputs": [
    {
     "name": "stdout",
     "output_type": "stream",
     "text": [
      "Created '20expanded_labels_assignment' folder at: 20expanded_labels_assignment\n",
      "Created '20expanded_labels_assignmentassignment_map' folder at: 20expanded_labels_assignmentassignment_map\n"
     ]
    },
    {
     "name": "stderr",
     "output_type": "stream",
     "text": [
      "100%|█████████████████████████████████████████| 821/821 [00:16<00:00, 49.03it/s]\n",
      "100%|█████████████████████████████████████████| 835/835 [00:16<00:00, 49.60it/s]\n",
      "100%|█████████████████████████████████████████| 904/904 [00:18<00:00, 49.61it/s]\n",
      "100%|███████████████████████████████████████| 1079/1079 [00:21<00:00, 49.55it/s]\n",
      "100%|███████████████████████████████████████| 1165/1165 [00:23<00:00, 49.66it/s]\n",
      "100%|█████████████████████████████████████████| 601/601 [00:12<00:00, 49.14it/s]\n"
     ]
    }
   ],
   "source": [
    "os.chdir(os.path.dirname(smFISHChannelPath))\n",
    "os.chdir(\"results\")\n",
    "spot_in_background_nuclei, assignment_results_nuclei = assign_spots_to_labels(post_decomposition_array_projected, nucleiExpandedArray_projected_labels, expansion = False, foldername = \"20expanded_labels_assignment\")"
   ]
  },
  {
   "cell_type": "code",
   "execution_count": 209,
   "id": "cc2108fe-2316-4b8c-9c56-6d60190310cc",
   "metadata": {},
   "outputs": [
    {
     "name": "stdout",
     "output_type": "stream",
     "text": [
      "Created 'counterstain_labels_assignment' folder at: counterstain_labels_assignment\n",
      "Created 'counterstain_labels_assignmentassignment_map' folder at: counterstain_labels_assignmentassignment_map\n"
     ]
    },
    {
     "name": "stderr",
     "output_type": "stream",
     "text": [
      "100%|█████████████████████████████████████████████| 2/2 [00:00<00:00, 48.89it/s]\n",
      "100%|█████████████████████████████████████████████| 5/5 [00:00<00:00, 50.15it/s]\n",
      "100%|███████████████████████████████████████████| 13/13 [00:00<00:00, 50.16it/s]\n",
      "100%|███████████████████████████████████████████| 52/52 [00:01<00:00, 50.27it/s]\n",
      "100%|█████████████████████████████████████████| 245/245 [00:04<00:00, 49.74it/s]\n",
      "100%|█████████████████████████████████████████████| 2/2 [00:00<00:00, 49.22it/s]\n"
     ]
    }
   ],
   "source": [
    "os.chdir(os.path.dirname(smFISHChannelPath))\n",
    "os.chdir(\"results\")\n",
    "spot_in_background_counterstain, assignment_results_counterstain = assign_spots_to_labels(post_decomposition_array_projected, counterstain_Assignment_labels, expansion = False, foldername = \"counterstain_labels_assignment\")"
   ]
  },
  {
   "cell_type": "code",
   "execution_count": 210,
   "id": "ebb160e6-ea5d-41b1-b29e-35254eb2cc08",
   "metadata": {},
   "outputs": [],
   "source": [
    "np.savez(\"assignment_results_of_spots_in_nuclei.npz\", *assignment_results_nuclei)\n",
    "np.savez(\"assignment_results_of_spots_in_counterstain.npz\", *assignment_results_counterstain)\n",
    "np.save(\"spot_in_background.npy\", spot_in_background_nuclei)\n",
    "np.save(\"spot_in_counterstain_background.npy\", spot_in_background_counterstain)"
   ]
  },
  {
   "cell_type": "code",
   "execution_count": 211,
   "id": "1fd28dc4-cb9f-4c65-b769-3a3522d55987",
   "metadata": {},
   "outputs": [],
   "source": [
    "# Here lets get some useful statistics: \n",
    "# First read in background assignment resutl"
   ]
  },
  {
   "cell_type": "code",
   "execution_count": null,
   "id": "6394c7eb-4e98-46cd-9245-27c661c91bb5",
   "metadata": {},
   "outputs": [],
   "source": []
  }
 ],
 "metadata": {
  "kernelspec": {
   "display_name": "stardist-env",
   "language": "python",
   "name": "stardist-env"
  },
  "language_info": {
   "codemirror_mode": {
    "name": "ipython",
    "version": 3
   },
   "file_extension": ".py",
   "mimetype": "text/x-python",
   "name": "python",
   "nbconvert_exporter": "python",
   "pygments_lexer": "ipython3",
   "version": "3.10.14"
  }
 },
 "nbformat": 4,
 "nbformat_minor": 5
}
