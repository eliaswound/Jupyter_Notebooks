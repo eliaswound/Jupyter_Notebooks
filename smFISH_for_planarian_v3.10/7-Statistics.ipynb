{
 "cells": [
  {
   "cell_type": "code",
   "execution_count": 6,
   "id": "f9b8ebde-946d-4adc-917c-5aaa8cd52134",
   "metadata": {},
   "outputs": [],
   "source": [
    "path = \"/Users/eliasguan/Desktop/EG_0920_Test_wnt1_incision_amputation/Experiment_dataset/Experiment/0h_Amputation\""
   ]
  },
  {
   "cell_type": "code",
   "execution_count": 14,
   "id": "9b244d47-4cfc-4563-9463-154258d0fbfb",
   "metadata": {},
   "outputs": [],
   "source": [
    "# Getting all assignment results in counterstaining \n",
    "import glob\n",
    "import os\n",
    "def find_all_files (folder_path, file_name):\n",
    "    # Define the folder to search in\n",
    "    folder_path = path\n",
    "    # Find all matching files\n",
    "    matching_filenames = glob.glob(os.path.join(folder_path, '**', file_name), recursive=True)\n",
    "    \n",
    "    # Print the list of matching files\n",
    "    for file in matching_filenames:\n",
    "        print(file)\n",
    "    return matching_filenames"
   ]
  },
  {
   "cell_type": "code",
   "execution_count": 16,
   "id": "127de200-115a-40be-ad05-c38749fd3833",
   "metadata": {},
   "outputs": [
    {
     "name": "stdout",
     "output_type": "stream",
     "text": [
      "/Users/eliasguan/Desktop/EG_0920_Test_wnt1_incision_amputation/Experiment_dataset/Experiment/12h_Amputation/Image1/565/results/assignment_results_of_spots_in_counterstain.npz\n",
      "/Users/eliasguan/Desktop/EG_0920_Test_wnt1_incision_amputation/Experiment_dataset/Experiment/12h_Amputation/Image2/565/results/assignment_results_of_spots_in_counterstain.npz\n",
      "/Users/eliasguan/Desktop/EG_0920_Test_wnt1_incision_amputation/Experiment_dataset/Experiment/12h_Amputation/Image3/565/results/assignment_results_of_spots_in_counterstain.npz\n"
     ]
    }
   ],
   "source": [
    "spot_in_counterstain = sorted(find_all_files (path, \"assignment_results_of_spots_in_counterstain.npz\"))"
   ]
  },
  {
   "cell_type": "code",
   "execution_count": 44,
   "id": "dc88f624-d2a0-42f6-b5a4-d6763d3bda7e",
   "metadata": {},
   "outputs": [],
   "source": [
    "mean_list1 = []\n",
    "for i in range(len(spot_in_counterstain)):\n",
    "    \n",
    "    with np.load(spot_in_counterstain[i]) as data:\n",
    "        # Extract each array and concatenate them into one array\n",
    "        all_arrays = [data[name] for name in data.files]\n",
    "        combined_array = np.concatenate(all_arrays)\n",
    "    mean = np.mean(combined_array[combined_array!=0])\n",
    "    mean_list1.append(mean)"
   ]
  },
  {
   "cell_type": "code",
   "execution_count": 45,
   "id": "7636125c-5689-45ae-a87a-28f9fc73f1e7",
   "metadata": {},
   "outputs": [
    {
     "data": {
      "text/plain": [
       "[13.802107728337237, 39.18189368770764, 23.252747252747252]"
      ]
     },
     "execution_count": 45,
     "metadata": {},
     "output_type": "execute_result"
    }
   ],
   "source": [
    "mean_list1"
   ]
  },
  {
   "cell_type": "code",
   "execution_count": 47,
   "id": "dbc326a6-1741-40ba-917b-54f460ae1ea4",
   "metadata": {},
   "outputs": [
    {
     "name": "stdout",
     "output_type": "stream",
     "text": [
      "/Users/eliasguan/Desktop/EG_0920_Test_wnt1_incision_amputation/Experiment_dataset/Experiment/0h_Amputation/Image1/565/results/assignment_results_of_spots_in_counterstain.npz\n",
      "/Users/eliasguan/Desktop/EG_0920_Test_wnt1_incision_amputation/Experiment_dataset/Experiment/0h_Amputation/Image2/565/results/assignment_results_of_spots_in_counterstain.npz\n",
      "/Users/eliasguan/Desktop/EG_0920_Test_wnt1_incision_amputation/Experiment_dataset/Experiment/0h_Amputation/Image3/565/results/assignment_results_of_spots_in_counterstain.npz\n"
     ]
    }
   ],
   "source": [
    "path = \"/Users/eliasguan/Desktop/EG_0920_Test_wnt1_incision_amputation/Experiment_dataset/Experiment/0h_Amputation\"\n",
    "spot_in_counterstain = sorted(find_all_files (path, \"assignment_results_of_spots_in_counterstain.npz\"))\n",
    "mean_list2 = []\n",
    "for i in range(len(spot_in_counterstain)):\n",
    "    \n",
    "    with np.load(spot_in_counterstain[i]) as data:\n",
    "        # Extract each array and concatenate them into one array\n",
    "        all_arrays = [data[name] for name in data.files]\n",
    "        combined_array = np.concatenate(all_arrays)\n",
    "    mean = np.mean(combined_array[combined_array!=0])\n",
    "    mean_list2.append(mean)"
   ]
  },
  {
   "cell_type": "code",
   "execution_count": 48,
   "id": "37f3bfe6-1d3e-4db8-9c6d-557a2040f725",
   "metadata": {},
   "outputs": [
    {
     "data": {
      "text/plain": [
       "[27.60569105691057, 8.061224489795919, 6.541567695961995]"
      ]
     },
     "execution_count": 48,
     "metadata": {},
     "output_type": "execute_result"
    }
   ],
   "source": [
    "mean_list2"
   ]
  },
  {
   "cell_type": "code",
   "execution_count": null,
   "id": "53710951-e2b3-4274-be38-c4a53b57d7e8",
   "metadata": {},
   "outputs": [],
   "source": []
  }
 ],
 "metadata": {
  "kernelspec": {
   "display_name": "stardist-env",
   "language": "python",
   "name": "stardist-env"
  },
  "language_info": {
   "codemirror_mode": {
    "name": "ipython",
    "version": 3
   },
   "file_extension": ".py",
   "mimetype": "text/x-python",
   "name": "python",
   "nbconvert_exporter": "python",
   "pygments_lexer": "ipython3",
   "version": "3.10.14"
  }
 },
 "nbformat": 4,
 "nbformat_minor": 5
}
