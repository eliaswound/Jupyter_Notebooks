{
 "cells": [
  {
   "cell_type": "code",
   "execution_count": 4,
   "id": "b4cd05e8-b16d-4705-bace-deae5fb30600",
   "metadata": {},
   "outputs": [],
   "source": [
    "# Takes a while to load all when you started \n",
    "from __future__ import print_function, unicode_literals, absolute_import, division\n",
    "# Here import important system functions \n",
    "import os\n",
    "import sys\n",
    "# import tk for getting the directory faster. dont need this in a command line/server version\n",
    "import tkinter as tk\n",
    "from tkinter import *\n",
    "from tkinter import filedialog\n",
    "# you need numpy as always\n",
    "import numpy as np\n",
    "import csv\n",
    "# if you dont need to plot in jupyter you don need these. Some magic interperters need to be removed for command line version. \n",
    "import matplotlib\n",
    "matplotlib.rcParams[\"image.interpolation\"] = 'none'\n",
    "import matplotlib.pyplot as plt\n",
    "%matplotlib inline\n",
    "%config InlineBackend.figure_format = 'retina'\n",
    "# Glob and tifffile are needed\n",
    "from glob import glob\n",
    "from tifffile import imread,imwrite\n",
    "# csb deep is to take normalization \n",
    "from csbdeep.utils import Path, normalize\n",
    "from csbdeep.io import save_tiff_imagej_compatible\n",
    "# This is your stardist models and everything in stardist coming from. \n",
    "from stardist import random_label_cmap, _draw_polygons, export_imagej_rois\n",
    "from stardist.models import StarDist2D\n",
    "# Set random seed for you color map. You do not really need this to be 6 all the time, but its okay. \n",
    "np.random.seed(6)\n",
    "lbl_cmap = random_label_cmap()"
   ]
  },
  {
   "cell_type": "code",
   "execution_count": 6,
   "id": "c61260d3-9e3c-4fd6-8a7e-dae1ea9f513a",
   "metadata": {},
   "outputs": [
    {
     "name": "stdout",
     "output_type": "stream",
     "text": [
      "Selected file path: /Users/eliasguan/Desktop/EG_Nucleus_Segementation_test/022523_smFISH_analysis_v2.0_development/Weekly_Reports/2024Spring/042424/2D_segmentation_v2.0_test/Sequence\n"
     ]
    }
   ],
   "source": [
    "# Use Tkinter to find your file path. \n",
    "def open_file_dialog():\n",
    "    root = tk.Tk()\n",
    "    root.withdraw()  # Hide the main window\n",
    "\n",
    "    file_path = filedialog.askdirectory()  # Open the file dialog window\n",
    "    os.chdir(file_path)\n",
    "    root.destroy()  # Destroy the root window after file selection\n",
    "    return file_path\n",
    "\n",
    "if __name__ == \"__main__\":\n",
    "    selected_file_path = open_file_dialog()\n",
    "    print(\"Selected file path:\", selected_file_path)\n"
   ]
  },
  {
   "cell_type": "code",
   "execution_count": 8,
   "id": "45a622a5-8641-4765-8b5c-1cc9c8ff98a3",
   "metadata": {},
   "outputs": [],
   "source": [
    "def max_projection_for_X_images(image_list, X, output_dir='max_projections'):\n",
    "    num_images = len(image_list)\n",
    "    path = os.getcwd()\n",
    "    os.chdir('..')\n",
    "    # Create the output directory if it doesn't exist\n",
    "    if not os.path.exists(output_dir):\n",
    "        os.makedirs(output_dir)\n",
    "    \n",
    "    # Iterate through images and create maximum projections\n",
    "    for i in range(0, num_images - X + 1, X):\n",
    "        max_projection = np.max(image_list[i:i+X], axis=0)\n",
    "        output_subdir = os.path.join(output_dir, f'{X}_stack_projection')\n",
    "        if not os.path.exists(output_subdir):\n",
    "            os.makedirs(output_subdir)\n",
    "        start_index = i + 1\n",
    "        end_index = i + X\n",
    "        imwrite(os.path.join(output_subdir, f'max_projection_{start_index}_to_{end_index}.tif'), max_projection)\n",
    "    os.chdir(path)"
   ]
  },
  {
   "cell_type": "code",
   "execution_count": null,
   "id": "13ef7d25-0323-4092-a10f-b01870043af5",
   "metadata": {},
   "outputs": [],
   "source": []
  }
 ],
 "metadata": {
  "kernelspec": {
   "display_name": "stardist-env",
   "language": "python",
   "name": "stardist-env"
  },
  "language_info": {
   "codemirror_mode": {
    "name": "ipython",
    "version": 3
   },
   "file_extension": ".py",
   "mimetype": "text/x-python",
   "name": "python",
   "nbconvert_exporter": "python",
   "pygments_lexer": "ipython3",
   "version": "3.10.14"
  }
 },
 "nbformat": 4,
 "nbformat_minor": 5
}
