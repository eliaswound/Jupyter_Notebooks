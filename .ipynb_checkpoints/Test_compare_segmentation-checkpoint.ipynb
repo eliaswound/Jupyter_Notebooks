{
 "cells": [
  {
   "cell_type": "code",
   "execution_count": 1,
   "id": "946c2deb-644d-4129-87e7-3b3fcb265a58",
   "metadata": {},
   "outputs": [],
   "source": [
    "# Takes a while to load all when you started \n",
    "from __future__ import print_function, unicode_literals, absolute_import, division\n",
    "# Here import important system functions \n",
    "import os\n",
    "import sys\n",
    "# import tk for getting the directory faster. dont need this in a command line/server version\n",
    "import tkinter as tk\n",
    "from tkinter import *\n",
    "from tkinter import filedialog\n",
    "# you need numpy as always\n",
    "import numpy as np\n",
    "import csv\n",
    "# if you dont need to plot in jupyter you don need these. Some magic interperters need to be removed for command line version. \n",
    "import matplotlib\n",
    "matplotlib.rcParams[\"image.interpolation\"] = 'none'\n",
    "import matplotlib.pyplot as plt\n",
    "%matplotlib inline\n",
    "%config InlineBackend.figure_format = 'retina'\n",
    "# Glob and tifffile are needed\n",
    "from glob import glob\n",
    "from tifffile import imread,imwrite\n",
    "# csb deep is to take normalization \n",
    "from csbdeep.utils import Path, normalize\n",
    "from csbdeep.io import save_tiff_imagej_compatible\n",
    "# This is your stardist models and everything in stardist coming from. \n",
    "from stardist import random_label_cmap, _draw_polygons, export_imagej_rois\n",
    "from stardist.models import StarDist2D\n",
    "# Set random seed for you color map. You do not really need this to be 6 all the time, but its okay. \n",
    "np.random.seed(6)\n",
    "lbl_cmap = random_label_cmap()"
   ]
  },
  {
   "cell_type": "code",
   "execution_count": 2,
   "id": "4986b444-9957-4de3-a95d-9d769a14e209",
   "metadata": {},
   "outputs": [
    {
     "name": "stdout",
     "output_type": "stream",
     "text": [
      "Selected file path: /Users/eliasguan/Desktop/EG_Nucleus_Segementation_test/022523_smFISH_analysis_v2.0_development/Weekly_Reports/2024Spring/043024/Spot_counting_test\n"
     ]
    }
   ],
   "source": [
    "def open_file_dialog():\n",
    "    root = tk.Tk()\n",
    "    root.withdraw()  # Hide the main window\n",
    "\n",
    "    file_path = filedialog.askdirectory()  # Open the file dialog window\n",
    "    os.chdir(file_path)\n",
    "    root.destroy()  # Destroy the root window after file selection\n",
    "    return file_path\n",
    "\n",
    "if __name__ == \"__main__\":\n",
    "    selected_file_path = open_file_dialog()\n",
    "    print(\"Selected file path:\", selected_file_path)\n"
   ]
  },
  {
   "cell_type": "code",
   "execution_count": null,
   "id": "1f463fc7-2e43-497e-8fad-f8f04a8c0a43",
   "metadata": {},
   "outputs": [],
   "source": [
    "# First test a 3D on 4 stacks "
   ]
  }
 ],
 "metadata": {
  "kernelspec": {
   "display_name": "stardist-env",
   "language": "python",
   "name": "stardist-env"
  },
  "language_info": {
   "codemirror_mode": {
    "name": "ipython",
    "version": 3
   },
   "file_extension": ".py",
   "mimetype": "text/x-python",
   "name": "python",
   "nbconvert_exporter": "python",
   "pygments_lexer": "ipython3",
   "version": "3.10.14"
  }
 },
 "nbformat": 4,
 "nbformat_minor": 5
}
