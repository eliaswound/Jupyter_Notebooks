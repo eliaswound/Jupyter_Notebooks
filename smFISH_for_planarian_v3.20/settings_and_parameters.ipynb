{
 "cells": [
  {
   "cell_type": "code",
   "execution_count": 1,
   "id": "2539349b-d070-4f95-8d9a-b7aa88d2aba6",
   "metadata": {},
   "outputs": [],
   "source": [
    "# This is the Place where you want to change your varaibles altogether and Setting of smFISH Detection pipeline for smFISH version 3.20. "
   ]
  },
  {
   "cell_type": "code",
   "execution_count": null,
   "id": "8b7b7e66-c361-4218-b790-01ad31a6e2ec",
   "metadata": {},
   "outputs": [],
   "source": [
    "# Spot Detection Parameters \n",
    "controlImage = True \n",
    "controlPath = \"/Users/eliasguan/Desktop/EG_0920_Test_wnt1_incision_amputation/Experiment_dataset/control/12h_Incision_Image1/565/control_12h_Incision_Image3_565.tif\""
   ]
  }
 ],
 "metadata": {
  "kernelspec": {
   "display_name": "stardist-env",
   "language": "python",
   "name": "stardist-env"
  },
  "language_info": {
   "codemirror_mode": {
    "name": "ipython",
    "version": 3
   },
   "file_extension": ".py",
   "mimetype": "text/x-python",
   "name": "python",
   "nbconvert_exporter": "python",
   "pygments_lexer": "ipython3",
   "version": "3.10.14"
  }
 },
 "nbformat": 4,
 "nbformat_minor": 5
}
