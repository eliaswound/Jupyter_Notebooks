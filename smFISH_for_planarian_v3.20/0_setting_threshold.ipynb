{
 "cells": [
  {
   "cell_type": "code",
   "execution_count": 1,
   "id": "0e838246-9fe6-4aa6-ae11-0af739ad040f",
   "metadata": {},
   "outputs": [],
   "source": [
    "# This is version 3.20 for smFISH analysis\n",
    "# This code is created by Elias(Qingxu) Guan from Chrsitian Petersen lab. \n",
    "# Before using please make sure: \n",
    "# Either install everything following readme \n",
    "# Follow the following instructions. \n",
    "# For windows and linux user\n",
    "# 1: make sure you create a unique enviornemnt \n",
    "# 2: Make sure you have stardist and bigfish/fishquant installed. \n",
    "# For apple and apple silicon user: \n",
    "# 1. Make sure you create a unique enviornment. \n",
    "# 2. If you dont have brew, make sure follow brew instructions and install brew\n",
    "# 3. Set up c++ complier \n",
    "# if you are using apple silicon\n",
    "# 1. Install stardist following stardist's instruction. \n",
    "# 2. Make sure you have installed tensorflow as instructed on tensorflow website. \n",
    "# 3. Make sure you have compatible version. https://pypi.org/project/tensorflow-metal/ Here is where you should go. "
   ]
  },
  {
   "cell_type": "code",
   "execution_count": 2,
   "id": "0c00d4ea-4a00-4818-a319-f7508f33e94b",
   "metadata": {},
   "outputs": [],
   "source": [
    "# Setting up Your Conditions\n",
    "# Setting Path\n",
    "# If you want to Run your code Please change directories here\n",
    "controlDirectory = \"/Users/eliasguan/Desktop/EG_0920_Test_wnt1_incision_amputation/Experiment_dataset/control\"\n",
    "experimentDirectory = \"/Users/eliasguan/Desktop/EG_0920_Test_wnt1_incision_amputation/Experiment_dataset/Experiment\" \n",
    "customFileName = \"565.tif\"\n",
    "counterstainDirectory = \"/Users/eliasguan/Desktop/EG_0920_Test_wnt1_incision_amputation/Experiment_dataset/Experiment\" \n",
    "counterstainFileName = \"633.tif\""
   ]
  },
  {
   "cell_type": "code",
   "execution_count": 3,
   "id": "7bdd788d-36d1-499a-b4f5-b4704755a1f5",
   "metadata": {},
   "outputs": [],
   "source": [
    "# Setting parameters\n",
    "kernel_size = (1,1.5,1.5)\n",
    "# Set the voxel size. This is determined by the pixel size of your microscope. Please contact microscopt manufactuer and convert resolution to voxel size. \n",
    "# unit is nm, please change to nm and note this should be the same for control and your experimental image. \n",
    "# I specifically allow this code to run different voxel size for control and experimental image, but for a good experiment you should not do it like that. \n",
    "control_voxel_size = (361,75,75)\n",
    "voxel_size = (361,75,75)\n",
    "minimal_distance = (2,2,2)\n",
    "# Set the spot size as your expected spot size \n",
    "spot_size = (600, 300, 300)\n",
    "saveSpotInformation = True\n",
    "counterstain = True"
   ]
  },
  {
   "cell_type": "code",
   "execution_count": 4,
   "id": "ac5e8f4e-76e9-4854-a24a-ab11a72ca66d",
   "metadata": {},
   "outputs": [],
   "source": [
    "# Importing packages \n",
    "import glob\n",
    "import os \n",
    "import bigfish.detection \n",
    "import bigfish.plot\n",
    "import tifffile\n",
    "from tqdm import tqdm\n",
    "import numpy as np\n",
    "import seaborn as sns\n",
    "import matplotlib.pyplot as plt"
   ]
  },
  {
   "cell_type": "code",
   "execution_count": 5,
   "id": "c02016bd-421c-4bff-8482-9dd2f716a7ca",
   "metadata": {},
   "outputs": [],
   "source": [
    "# Here load functions \n",
    "# Function1 : Finding all file path\n",
    "def find_tif_files(directory, pattern=\"565.tif\"):\n",
    "    matches = []\n",
    "    # Walk through the directory and its subdirectories\n",
    "    for root, dirs, files in os.walk(directory):\n",
    "        for file in files:\n",
    "            if file.endswith(pattern):\n",
    "                matches.append(os.path.join(root, file))\n",
    "    return matches\n",
    "def create_folder_in_same_directory(file_path, folder_name):\n",
    "    \"\"\"\n",
    "    Creates a folder with the specified name in the same directory as the given file.\n",
    "    If the folder already exists, it returns the existing path.\n",
    "    \"\"\"\n",
    "    # Get the directory of the given file\n",
    "    directory = os.path.dirname(file_path)\n",
    "    \n",
    "    # Define the path for the specified folder\n",
    "    folder_path = os.path.join(directory, folder_name)\n",
    "    \n",
    "    # Check if the folder exists\n",
    "    if not os.path.exists(folder_path):\n",
    "        # Create the folder if it doesn't exist\n",
    "        os.makedirs(folder_path)\n",
    "        print(f\"Created '{folder_name}' folder at: {folder_path}\")\n",
    "    else:\n",
    "        print(f\"'{folder_name}' folder already exists at: {folder_path}\")\n",
    "    \n",
    "    return folder_path"
   ]
  },
  {
   "cell_type": "code",
   "execution_count": 6,
   "id": "fd311e94-6880-4a2f-8cb7-44b4ed1386ed",
   "metadata": {},
   "outputs": [
    {
     "name": "stderr",
     "output_type": "stream",
     "text": [
      "  0%|                                                             | 0/6 [00:00<?, ?it/s]"
     ]
    },
    {
     "name": "stdout",
     "output_type": "stream",
     "text": [
      "'results' folder already exists at: results\n"
     ]
    },
    {
     "name": "stderr",
     "output_type": "stream",
     "text": [
      " 17%|████████▊                                            | 1/6 [01:11<05:55, 71.09s/it]"
     ]
    },
    {
     "name": "stdout",
     "output_type": "stream",
     "text": [
      "threshold: 12.666666666666666\n",
      "'results' folder already exists at: results\n"
     ]
    },
    {
     "name": "stderr",
     "output_type": "stream",
     "text": [
      " 33%|█████████████████▋                                   | 2/6 [02:23<04:47, 71.78s/it]"
     ]
    },
    {
     "name": "stdout",
     "output_type": "stream",
     "text": [
      "threshold: 3.3333333333333335\n",
      "'results' folder already exists at: results\n"
     ]
    },
    {
     "name": "stderr",
     "output_type": "stream",
     "text": [
      " 50%|██████████████████████████▌                          | 3/6 [03:56<04:04, 81.38s/it]"
     ]
    },
    {
     "name": "stdout",
     "output_type": "stream",
     "text": [
      "threshold: 12.212121212121213\n",
      "'results' folder already exists at: results\n"
     ]
    },
    {
     "name": "stderr",
     "output_type": "stream",
     "text": [
      " 67%|███████████████████████████████████▎                 | 4/6 [04:45<02:17, 68.80s/it]"
     ]
    },
    {
     "name": "stdout",
     "output_type": "stream",
     "text": [
      "threshold: 11.454545454545455\n",
      "'results' folder already exists at: results\n"
     ]
    },
    {
     "name": "stderr",
     "output_type": "stream",
     "text": [
      "/Users/eliasguan/anaconda3/envs/stardist-env/lib/python3.10/site-packages/bigfish/detection/spot_detection.py:586: RuntimeWarning: divide by zero encountered in log\n",
      "  count_spots = np.log([np.count_nonzero(value_spots > t)\n",
      " 83%|████████████████████████████████████████████▏        | 5/6 [05:51<01:07, 67.87s/it]"
     ]
    },
    {
     "name": "stdout",
     "output_type": "stream",
     "text": [
      "threshold: 8.666666666666666\n",
      "'results' folder already exists at: results\n"
     ]
    },
    {
     "name": "stderr",
     "output_type": "stream",
     "text": [
      "100%|█████████████████████████████████████████████████████| 6/6 [06:59<00:00, 69.86s/it]"
     ]
    },
    {
     "name": "stdout",
     "output_type": "stream",
     "text": [
      "threshold: 10.02020202020202\n"
     ]
    },
    {
     "name": "stderr",
     "output_type": "stream",
     "text": [
      "\n"
     ]
    }
   ],
   "source": [
    "# If you have control image then read in control images \n",
    "if controlDirectory:\n",
    "    # Create threshold storage \n",
    "    controlThresholdCollection = []\n",
    "    # Finding all tif files in your directory\n",
    "    controlsmFISHChannelPaths = find_tif_files(controlDirectory,customFileName)\n",
    "    for i in tqdm(range(len(controlsmFISHChannelPaths))):\n",
    "        # Get your directory of each single file \n",
    "        file_directory = os.path.dirname(controlsmFISHChannelPaths[i])\n",
    "        # Move to current work directory\n",
    "        os.chdir(file_directory)\n",
    "        # Create results folder\n",
    "        create_folder_in_same_directory(\".\",\"results\")\n",
    "        # Aim to save everything in results folder\n",
    "        os.chdir(\"results\")\n",
    "        # Read in image\n",
    "        controlsmFISHChannel = tifffile.imread(controlsmFISHChannelPaths[i])\n",
    "        # Main Detection function \n",
    "        control_spots, control_spots_threshold = bigfish.detection.detect_spots(\n",
    "                images=controlsmFISHChannel,\n",
    "                return_threshold=True,\n",
    "                voxel_size= voxel_size,  # in nanometer (one value per dimension zyx)\n",
    "                spot_radius= spot_size, # in nanometer (one value per dimension zyx)\n",
    "                log_kernel_size= kernel_size,\n",
    "                minimum_distance= minimal_distance)\n",
    "        # Plot the elbow curve to make sure you have it saved. \n",
    "        bigfish.plot.plot_elbow(\n",
    "                images=controlsmFISHChannel,\n",
    "                voxel_size=voxel_size,\n",
    "                spot_radius=spot_size,\n",
    "                path_output=\"Elbow.png\",\n",
    "                show=False)\n",
    "        # Add the threshold to your storage\n",
    "        controlThresholdCollection.append(control_spots_threshold)\n",
    "        # Print out the threshold\n",
    "        print(\"threshold: {0}\".format(control_spots_threshold))"
   ]
  },
  {
   "cell_type": "code",
   "execution_count": 7,
   "id": "52d5c080-c9a3-4511-bb78-3265a740476f",
   "metadata": {},
   "outputs": [
    {
     "name": "stderr",
     "output_type": "stream",
     "text": [
      "  0%|                                                            | 0/16 [00:00<?, ?it/s]"
     ]
    },
    {
     "name": "stdout",
     "output_type": "stream",
     "text": [
      "'results' folder already exists at: results\n"
     ]
    },
    {
     "name": "stderr",
     "output_type": "stream",
     "text": [
      "  6%|███▎                                                | 1/16 [01:03<15:55, 63.70s/it]"
     ]
    },
    {
     "name": "stdout",
     "output_type": "stream",
     "text": [
      "threshold: 1.9797979797979797\n",
      "'results' folder already exists at: results\n"
     ]
    },
    {
     "name": "stderr",
     "output_type": "stream",
     "text": [
      " 12%|██████▏                                          | 2/16 [07:46<1:01:24, 263.18s/it]"
     ]
    },
    {
     "name": "stdout",
     "output_type": "stream",
     "text": [
      "threshold: 12.01010101010101\n",
      "'results' folder already exists at: results\n"
     ]
    },
    {
     "name": "stderr",
     "output_type": "stream",
     "text": [
      " 19%|█████████▌                                         | 3/16 [09:27<40:56, 189.00s/it]"
     ]
    },
    {
     "name": "stdout",
     "output_type": "stream",
     "text": [
      "threshold: 11.424242424242424\n",
      "'results' folder already exists at: results\n"
     ]
    },
    {
     "name": "stderr",
     "output_type": "stream",
     "text": [
      " 25%|████████████▊                                      | 4/16 [11:19<31:43, 158.60s/it]"
     ]
    },
    {
     "name": "stdout",
     "output_type": "stream",
     "text": [
      "threshold: 12.323232323232322\n",
      "'results' folder already exists at: results\n"
     ]
    },
    {
     "name": "stderr",
     "output_type": "stream",
     "text": [
      " 31%|███████████████▉                                   | 5/16 [20:20<54:22, 296.60s/it]"
     ]
    },
    {
     "name": "stdout",
     "output_type": "stream",
     "text": [
      "threshold: 13.080808080808081\n",
      "'results' folder already exists at: results\n"
     ]
    },
    {
     "name": "stderr",
     "output_type": "stream",
     "text": [
      " 38%|███████████████████▏                               | 6/16 [22:16<39:10, 235.06s/it]"
     ]
    },
    {
     "name": "stdout",
     "output_type": "stream",
     "text": [
      "threshold: 9.0\n",
      "'results' folder already exists at: results\n"
     ]
    },
    {
     "name": "stderr",
     "output_type": "stream",
     "text": [
      " 44%|██████████████████████▎                            | 7/16 [25:31<33:19, 222.21s/it]"
     ]
    },
    {
     "name": "stdout",
     "output_type": "stream",
     "text": [
      "threshold: 10.181818181818182\n",
      "'results' folder already exists at: results\n"
     ]
    },
    {
     "name": "stderr",
     "output_type": "stream",
     "text": [
      " 50%|█████████████████████████▌                         | 8/16 [38:09<52:22, 392.81s/it]"
     ]
    },
    {
     "name": "stdout",
     "output_type": "stream",
     "text": [
      "threshold: 9.818181818181817\n",
      "'results' folder already exists at: results\n"
     ]
    },
    {
     "name": "stderr",
     "output_type": "stream",
     "text": [
      " 56%|███████████████████████████▌                     | 9/16 [51:43<1:01:09, 524.27s/it]"
     ]
    },
    {
     "name": "stdout",
     "output_type": "stream",
     "text": [
      "threshold: 2.404040404040404\n",
      "'results' folder already exists at: results\n"
     ]
    },
    {
     "name": "stderr",
     "output_type": "stream",
     "text": [
      " 62%|███████████████████████████████▎                  | 10/16 [59:50<51:17, 512.83s/it]"
     ]
    },
    {
     "name": "stdout",
     "output_type": "stream",
     "text": [
      "threshold: 11.11111111111111\n",
      "'results' folder already exists at: results\n"
     ]
    },
    {
     "name": "stderr",
     "output_type": "stream",
     "text": [
      " 69%|█████████████████████████████████               | 11/16 [1:17:41<56:57, 683.57s/it]"
     ]
    },
    {
     "name": "stdout",
     "output_type": "stream",
     "text": [
      "threshold: 13.787878787878789\n",
      "'results' folder already exists at: results\n"
     ]
    },
    {
     "name": "stderr",
     "output_type": "stream",
     "text": [
      " 75%|████████████████████████████████████            | 12/16 [1:26:41<42:39, 639.98s/it]"
     ]
    },
    {
     "name": "stdout",
     "output_type": "stream",
     "text": [
      "threshold: 11.313131313131313\n",
      "'results' folder already exists at: results\n"
     ]
    },
    {
     "name": "stderr",
     "output_type": "stream",
     "text": [
      " 81%|███████████████████████████████████████         | 13/16 [1:35:16<30:06, 602.03s/it]"
     ]
    },
    {
     "name": "stdout",
     "output_type": "stream",
     "text": [
      "threshold: 9.95959595959596\n",
      "'results' folder already exists at: results\n"
     ]
    },
    {
     "name": "stderr",
     "output_type": "stream",
     "text": [
      " 88%|██████████████████████████████████████████      | 14/16 [1:53:23<24:57, 748.52s/it]"
     ]
    },
    {
     "name": "stdout",
     "output_type": "stream",
     "text": [
      "threshold: 12.767676767676768\n",
      "'results' folder already exists at: results\n"
     ]
    },
    {
     "name": "stderr",
     "output_type": "stream",
     "text": [
      " 94%|█████████████████████████████████████████████   | 15/16 [2:03:54<11:53, 713.18s/it]"
     ]
    },
    {
     "name": "stdout",
     "output_type": "stream",
     "text": [
      "threshold: 14.727272727272728\n",
      "'results' folder already exists at: results\n"
     ]
    },
    {
     "name": "stderr",
     "output_type": "stream",
     "text": [
      "100%|████████████████████████████████████████████████| 16/16 [2:14:26<00:00, 504.15s/it]"
     ]
    },
    {
     "name": "stdout",
     "output_type": "stream",
     "text": [
      "threshold: 10.757575757575758\n"
     ]
    },
    {
     "name": "stderr",
     "output_type": "stream",
     "text": [
      "\n"
     ]
    }
   ],
   "source": [
    "# Create your collection for experiment group thresholds\n",
    "experimentThresholdCollection = []\n",
    "#  Find all files for your experiment group\n",
    "experimentsmFISHChannelPaths = find_tif_files(experimentDirectory, customFileName)\n",
    "for i in tqdm(range(len(experimentsmFISHChannelPaths))):\n",
    "    # Same as previous code. \n",
    "    file_directory = os.path.dirname(experimentsmFISHChannelPaths[i])\n",
    "    os.chdir(file_directory)\n",
    "    create_folder_in_same_directory(\".\",\"results\")\n",
    "    os.chdir(\"results\")\n",
    "    experimentsmFISHChannel = tifffile.imread(experimentsmFISHChannelPaths[i])\n",
    "    # Function to find your spots and threshold \n",
    "    experiment_spots, experiment_spots_threshold = bigfish.detection.detect_spots(\n",
    "            images=experimentsmFISHChannel,\n",
    "            return_threshold=True,\n",
    "            voxel_size= voxel_size,  # in nanometer (one value per dimension zyx)\n",
    "            spot_radius= spot_size, # in nanometer (one value per dimension zyx)\n",
    "            log_kernel_size= kernel_size,\n",
    "            minimum_distance= minimal_distance)\n",
    "    # Plot your elbow curve\n",
    "    bigfish.plot.plot_elbow(\n",
    "            images=experimentsmFISHChannel,\n",
    "            voxel_size=voxel_size,\n",
    "            spot_radius=spot_size,\n",
    "            path_output=\"Elbow.png\",\n",
    "            show=False)\n",
    "    # Add your threshold to your collection \n",
    "    experimentThresholdCollection.append(experiment_spots_threshold)\n",
    "    # Save the spots here for future works. \n",
    "    print(\"threshold: {0}\".format(experiment_spots_threshold))\n",
    "    if saveSpotInformation == True:\n",
    "         with open (\"spot_info.txt\",\"w\") as file :\n",
    "             file.write(\"\\r shape: {0}\".format(experiment_spots.shape))\n",
    "             file.write(\"\\r dtype: {0}\".format(experiment_spots.dtype))\n",
    "             file.write(\"\\r threshold: {0}\".format(experiment_spots_threshold))"
   ]
  },
  {
   "cell_type": "code",
   "execution_count": 8,
   "id": "d84938c6-4965-4576-8ec6-81bf0ccf9dff",
   "metadata": {},
   "outputs": [
    {
     "data": {
      "image/png": "[encoded data removed]",
      "text/plain": [
       "<Figure size 800x600 with 1 Axes>"
      ]
     },
     "metadata": {},
     "output_type": "display_data"
    }
   ],
   "source": [
    "thresholds = [controlThresholdCollection, experimentThresholdCollection]\n",
    "labels = ['control group Threshold', \"Experiment group Threshold\"]\n",
    "plt.figure(figsize=(8, 6))\n",
    "sns.boxplot(data=thresholds)\n",
    "\n",
    "# Add title\n",
    "plt.title(\"Threshold for Spot Detection\")\n",
    "\n",
    "# Calculate and annotate mean values\n",
    "for i, dataset in enumerate(thresholds):\n",
    "    mean_value = np.mean(dataset)\n",
    "    plt.text(i, mean_value, f'Mean: {mean_value:.2f}', \n",
    "             ha='center', va='bottom', color='black')\n",
    "\n",
    "# Set x-ticks\n",
    "plt.xticks(ticks=[0, 1], labels=labels)\n",
    "\n",
    "# Display the plot\n",
    "plt.show()"
   ]
  },
  {
   "cell_type": "code",
   "execution_count": 9,
   "id": "a086f43f-2d31-434f-8e51-63120f1e2bf8",
   "metadata": {},
   "outputs": [
    {
     "name": "stderr",
     "output_type": "stream",
     "text": [
      "  0%|                                                            | 0/16 [00:00<?, ?it/s]"
     ]
    },
    {
     "name": "stdout",
     "output_type": "stream",
     "text": [
      "'results' folder already exists at: results\n"
     ]
    },
    {
     "name": "stderr",
     "output_type": "stream",
     "text": [
      "  6%|███▎                                                | 1/16 [00:37<09:26, 37.79s/it]"
     ]
    },
    {
     "name": "stdout",
     "output_type": "stream",
     "text": [
      "threshold: 19.636363636363637\n",
      "'results' folder already exists at: results\n"
     ]
    },
    {
     "name": "stderr",
     "output_type": "stream",
     "text": [
      " 12%|██████▍                                            | 2/16 [07:11<57:41, 247.26s/it]"
     ]
    },
    {
     "name": "stdout",
     "output_type": "stream",
     "text": [
      "threshold: 6.222222222222222\n",
      "'results' folder already exists at: results\n"
     ]
    },
    {
     "name": "stderr",
     "output_type": "stream",
     "text": [
      " 19%|█████████▌                                         | 3/16 [08:53<39:08, 180.64s/it]"
     ]
    },
    {
     "name": "stdout",
     "output_type": "stream",
     "text": [
      "threshold: 17.67676767676768\n",
      "'results' folder already exists at: results\n"
     ]
    },
    {
     "name": "stderr",
     "output_type": "stream",
     "text": [
      " 25%|████████████▊                                      | 4/16 [10:43<30:33, 152.80s/it]"
     ]
    },
    {
     "name": "stdout",
     "output_type": "stream",
     "text": [
      "threshold: 8.98989898989899\n",
      "'results' folder already exists at: results\n"
     ]
    },
    {
     "name": "stderr",
     "output_type": "stream",
     "text": [
      " 31%|███████████████▉                                   | 5/16 [19:40<53:24, 291.32s/it]"
     ]
    },
    {
     "name": "stdout",
     "output_type": "stream",
     "text": [
      "threshold: 5.8686868686868685\n",
      "'results' folder already exists at: results\n"
     ]
    },
    {
     "name": "stderr",
     "output_type": "stream",
     "text": [
      " 38%|███████████████████▏                               | 6/16 [21:36<38:38, 231.87s/it]"
     ]
    },
    {
     "name": "stdout",
     "output_type": "stream",
     "text": [
      "threshold: 4.848484848484849\n",
      "'results' folder already exists at: results\n"
     ]
    },
    {
     "name": "stderr",
     "output_type": "stream",
     "text": [
      " 44%|██████████████████████▎                            | 7/16 [24:40<32:25, 216.15s/it]"
     ]
    },
    {
     "name": "stdout",
     "output_type": "stream",
     "text": [
      "threshold: 4.787878787878788\n",
      "'results' folder already exists at: results\n"
     ]
    },
    {
     "name": "stderr",
     "output_type": "stream",
     "text": [
      " 50%|█████████████████████████▌                         | 8/16 [36:50<50:39, 379.94s/it]"
     ]
    },
    {
     "name": "stdout",
     "output_type": "stream",
     "text": [
      "threshold: 13.85858585858586\n",
      "'results' folder already exists at: results\n"
     ]
    },
    {
     "name": "stderr",
     "output_type": "stream",
     "text": [
      " 56%|████████████████████████████▋                      | 9/16 [44:34<47:23, 406.19s/it]"
     ]
    },
    {
     "name": "stdout",
     "output_type": "stream",
     "text": [
      "threshold: 11.555555555555555\n",
      "'results' folder already exists at: results\n"
     ]
    },
    {
     "name": "stderr",
     "output_type": "stream",
     "text": [
      " 62%|███████████████████████████████▎                  | 10/16 [52:40<43:05, 430.85s/it]"
     ]
    },
    {
     "name": "stdout",
     "output_type": "stream",
     "text": [
      "threshold: 7.090909090909091\n",
      "'results' folder already exists at: results\n"
     ]
    },
    {
     "name": "stderr",
     "output_type": "stream",
     "text": [
      " 69%|█████████████████████████████████               | 11/16 [1:10:22<51:59, 623.97s/it]"
     ]
    },
    {
     "name": "stdout",
     "output_type": "stream",
     "text": [
      "threshold: 6.151515151515151\n",
      "'results' folder already exists at: results\n"
     ]
    },
    {
     "name": "stderr",
     "output_type": "stream",
     "text": [
      " 75%|████████████████████████████████████            | 12/16 [1:19:40<40:14, 603.74s/it]"
     ]
    },
    {
     "name": "stdout",
     "output_type": "stream",
     "text": [
      "threshold: 5.03030303030303\n",
      "'results' folder already exists at: results\n"
     ]
    },
    {
     "name": "stderr",
     "output_type": "stream",
     "text": [
      " 81%|███████████████████████████████████████         | 13/16 [1:29:51<30:17, 605.89s/it]"
     ]
    },
    {
     "name": "stdout",
     "output_type": "stream",
     "text": [
      "threshold: 5.797979797979798\n",
      "'results' folder already exists at: results\n"
     ]
    },
    {
     "name": "stderr",
     "output_type": "stream",
     "text": [
      " 88%|██████████████████████████████████████████      | 14/16 [1:51:16<27:02, 811.14s/it]"
     ]
    },
    {
     "name": "stdout",
     "output_type": "stream",
     "text": [
      "threshold: 8.787878787878787\n",
      "'results' folder already exists at: results\n"
     ]
    },
    {
     "name": "stderr",
     "output_type": "stream",
     "text": [
      " 94%|█████████████████████████████████████████████   | 15/16 [2:04:53<13:32, 812.76s/it]"
     ]
    },
    {
     "name": "stdout",
     "output_type": "stream",
     "text": [
      "threshold: 6.363636363636363\n",
      "'results' folder already exists at: results\n"
     ]
    },
    {
     "name": "stderr",
     "output_type": "stream",
     "text": [
      "100%|████████████████████████████████████████████████| 16/16 [2:15:15<00:00, 507.21s/it]"
     ]
    },
    {
     "name": "stdout",
     "output_type": "stream",
     "text": [
      "threshold: 19.28282828282828\n"
     ]
    },
    {
     "name": "stderr",
     "output_type": "stream",
     "text": [
      "\n"
     ]
    }
   ],
   "source": [
    "# Create your collection for counterstain group thresholds\n",
    "if counterstain:\n",
    "    counterstainThresholdCollection = []\n",
    "    #  Find all files for your counterstain group\n",
    "    counterstainsmFISHChannelPaths = find_tif_files(counterstainDirectory, counterstainFileName)\n",
    "    for i in tqdm(range(len(counterstainsmFISHChannelPaths))):\n",
    "        # Same as previous code. \n",
    "        file_directory = os.path.dirname(counterstainsmFISHChannelPaths[i])\n",
    "        os.chdir(file_directory)\n",
    "        create_folder_in_same_directory(\".\",\"results\")\n",
    "        os.chdir(\"results\")\n",
    "        counterstainsmFISHChannel = tifffile.imread(counterstainsmFISHChannelPaths[i])\n",
    "        # Function to find your spots and threshold \n",
    "        counterstain_spots, counterstain_spots_threshold = bigfish.detection.detect_spots(\n",
    "                images=counterstainsmFISHChannel,\n",
    "                return_threshold=True,\n",
    "                voxel_size= voxel_size,  # in nanometer (one value per dimension zyx)\n",
    "                spot_radius= spot_size, # in nanometer (one value per dimension zyx)\n",
    "                log_kernel_size= kernel_size,\n",
    "                minimum_distance= minimal_distance)\n",
    "        # Plot your elbow curve\n",
    "        bigfish.plot.plot_elbow(\n",
    "                images=counterstainsmFISHChannel,\n",
    "                voxel_size=voxel_size,\n",
    "                spot_radius=spot_size,\n",
    "                path_output=\"Elbow.png\",\n",
    "                show=False)\n",
    "        # Add your threshold to your collection \n",
    "        counterstainThresholdCollection.append(counterstain_spots_threshold)\n",
    "        # Save the spots here for future works. \n",
    "        print(\"threshold: {0}\".format(counterstain_spots_threshold))"
   ]
  },
  {
   "cell_type": "code",
   "execution_count": 10,
   "id": "77172157-bde9-4476-a186-aa5c494c94ce",
   "metadata": {},
   "outputs": [
    {
     "data": {
      "image/png": "[encoded data removed]",
      "text/plain": [
       "<Figure size 800x600 with 1 Axes>"
      ]
     },
     "metadata": {},
     "output_type": "display_data"
    }
   ],
   "source": [
    "thresholds = [controlThresholdCollection, experimentThresholdCollection, counterstainThresholdCollection]\n",
    "labels = ['control group Threshold', \"Experiment group Threshold\", \"Counterstain Threshold\"]\n",
    "plt.figure(figsize=(8, 6))\n",
    "sns.boxplot(data=thresholds)\n",
    "\n",
    "# Add title\n",
    "plt.title(\"Threshold for Spot Detection\")\n",
    "\n",
    "# Calculate and annotate mean values\n",
    "for i, dataset in enumerate(thresholds):\n",
    "    mean_value = np.mean(dataset)\n",
    "    plt.text(i, mean_value, f'Mean: {mean_value:.2f}', \n",
    "             ha='center', va='bottom', color='black')\n",
    "\n",
    "# Set x-ticks\n",
    "plt.xticks(ticks=[0, 1, 2], labels=labels)\n",
    "\n",
    "# Display the plot\n",
    "plt.show()"
   ]
  },
  {
   "cell_type": "code",
   "execution_count": 11,
   "id": "01a8a429-db44-4b40-8dac-295b75219143",
   "metadata": {},
   "outputs": [
    {
     "name": "stderr",
     "output_type": "stream",
     "text": [
      "  0%|                                                             | 0/6 [00:00<?, ?it/s]"
     ]
    },
    {
     "name": "stdout",
     "output_type": "stream",
     "text": [
      "'results' folder already exists at: results\n"
     ]
    },
    {
     "name": "stderr",
     "output_type": "stream",
     "text": [
      " 17%|████████▊                                            | 1/6 [01:10<05:53, 70.74s/it]"
     ]
    },
    {
     "name": "stdout",
     "output_type": "stream",
     "text": [
      "threshold: 8.98989898989899\n",
      "'results' folder already exists at: results\n"
     ]
    },
    {
     "name": "stderr",
     "output_type": "stream",
     "text": [
      " 33%|█████████████████▋                                   | 2/6 [02:08<04:12, 63.25s/it]"
     ]
    },
    {
     "name": "stdout",
     "output_type": "stream",
     "text": [
      "threshold: 19.151515151515152\n",
      "'results' folder already exists at: results\n"
     ]
    },
    {
     "name": "stderr",
     "output_type": "stream",
     "text": [
      " 50%|██████████████████████████▌                          | 3/6 [03:39<03:47, 75.83s/it]"
     ]
    },
    {
     "name": "stdout",
     "output_type": "stream",
     "text": [
      "threshold: 5.797979797979798\n",
      "'results' folder already exists at: results\n"
     ]
    },
    {
     "name": "stderr",
     "output_type": "stream",
     "text": [
      " 67%|███████████████████████████████████▎                 | 4/6 [04:28<02:10, 65.41s/it]"
     ]
    },
    {
     "name": "stdout",
     "output_type": "stream",
     "text": [
      "threshold: 5.545454545454545\n",
      "'results' folder already exists at: results\n"
     ]
    },
    {
     "name": "stderr",
     "output_type": "stream",
     "text": [
      " 83%|████████████████████████████████████████████▏        | 5/6 [05:34<01:05, 65.52s/it]"
     ]
    },
    {
     "name": "stdout",
     "output_type": "stream",
     "text": [
      "threshold: 4.96969696969697\n",
      "'results' folder already exists at: results\n"
     ]
    },
    {
     "name": "stderr",
     "output_type": "stream",
     "text": [
      "100%|█████████████████████████████████████████████████████| 6/6 [06:41<00:00, 66.92s/it]"
     ]
    },
    {
     "name": "stdout",
     "output_type": "stream",
     "text": [
      "threshold: 5.2727272727272725\n"
     ]
    },
    {
     "name": "stderr",
     "output_type": "stream",
     "text": [
      "\n"
     ]
    }
   ],
   "source": [
    "# Create your collection for counterstain group thresholds\n",
    "if counterstain:\n",
    "    counterstainControlThresholdCollection = []\n",
    "    #  Find all files for your counterstain group\n",
    "    counterstainControlsmFISHChannelPaths = find_tif_files(controlDirectory, counterstainFileName)\n",
    "    for i in tqdm(range(len(counterstainControlsmFISHChannelPaths))):\n",
    "        # Same as previous code. \n",
    "        file_directory = os.path.dirname(counterstainControlsmFISHChannelPaths[i])\n",
    "        os.chdir(file_directory)\n",
    "        create_folder_in_same_directory(\".\",\"results\")\n",
    "        os.chdir(\"results\")\n",
    "        counterstainControlsmFISHChannel = tifffile.imread(counterstainControlsmFISHChannelPaths[i])\n",
    "        # Function to find your spots and threshold \n",
    "        counterstainControl_spots, counterstainControl_spots_threshold = bigfish.detection.detect_spots(\n",
    "                images=counterstainControlsmFISHChannel,\n",
    "                return_threshold=True,\n",
    "                voxel_size= voxel_size,  # in nanometer (one value per dimension zyx)\n",
    "                spot_radius= spot_size, # in nanometer (one value per dimension zyx)\n",
    "                log_kernel_size= kernel_size,\n",
    "                minimum_distance= minimal_distance)\n",
    "        # Plot your elbow curve\n",
    "        bigfish.plot.plot_elbow(\n",
    "                images=counterstainControlsmFISHChannel,\n",
    "                voxel_size=voxel_size,\n",
    "                spot_radius=spot_size,\n",
    "                path_output=\"Elbow.png\",\n",
    "                show=False)\n",
    "        # Add your threshold to your collection \n",
    "        counterstainControlThresholdCollection.append(counterstainControl_spots_threshold)\n",
    "        # Save the spots here for future works. \n",
    "        print(\"threshold: {0}\".format(counterstainControl_spots_threshold))"
   ]
  },
  {
   "cell_type": "code",
   "execution_count": 16,
   "id": "4305158b-d090-487c-8f78-bcf48eb4d72f",
   "metadata": {},
   "outputs": [
    {
     "data": {
      "image/png": "[encoded data removed]",
      "text/plain": [
       "<Figure size 1200x600 with 1 Axes>"
      ]
     },
     "metadata": {},
     "output_type": "display_data"
    }
   ],
   "source": [
    "thresholds = [controlThresholdCollection, experimentThresholdCollection, counterstainControlThresholdCollection, counterstainThresholdCollection]\n",
    "labels = ['control group Threshold', \"Experiment group Threshold\", \"Counterstain Control Threshold\", \"Counterstain Threshold\"]\n",
    "plt.figure(figsize=(12, 6))\n",
    "sns.boxplot(data=thresholds)\n",
    "\n",
    "# Add title\n",
    "plt.title(\"Threshold for Spot Detection\")\n",
    "\n",
    "# Calculate and annotate mean values\n",
    "for i, dataset in enumerate(thresholds):\n",
    "    mean_value = np.mean(dataset)\n",
    "    plt.text(i, mean_value, f'Mean: {mean_value:.2f}', \n",
    "             ha='center', va='bottom', color='black')\n",
    "\n",
    "# Set x-ticks\n",
    "plt.xticks(ticks=[0, 1, 2, 3], labels=labels)\n",
    "plt.savefig(\"thresholds.png\")\n",
    "# Display the plot\n",
    "plt.show()"
   ]
  },
  {
   "cell_type": "code",
   "execution_count": 14,
   "id": "a191cdcf-3dab-4e4a-b217-51626b926f85",
   "metadata": {},
   "outputs": [
    {
     "data": {
      "text/plain": [
       "'/Users/eliasguan/Desktop/EG_0920_Test_wnt1_incision_amputation/Experiment_dataset/control/0h_incision_Image1/633/results'"
      ]
     },
     "execution_count": 14,
     "metadata": {},
     "output_type": "execute_result"
    }
   ],
   "source": [
    "os.getcwd()"
   ]
  },
  {
   "cell_type": "code",
   "execution_count": 15,
   "id": "f62f44dc-e59c-46ca-94db-948e92cea3ef",
   "metadata": {},
   "outputs": [
    {
     "data": {
      "text/plain": [
       "<Figure size 640x480 with 0 Axes>"
      ]
     },
     "metadata": {},
     "output_type": "display_data"
    }
   ],
   "source": [
    "plt.savefig(\"thresholds.png\")"
   ]
  },
  {
   "cell_type": "code",
   "execution_count": null,
   "id": "f6911b48-a8ff-4f07-969f-25dffdf6296b",
   "metadata": {},
   "outputs": [],
   "source": []
  }
 ],
 "metadata": {
  "kernelspec": {
   "display_name": "stardist-env",
   "language": "python",
   "name": "stardist-env"
  },
  "language_info": {
   "codemirror_mode": {
    "name": "ipython",
    "version": 3
   },
   "file_extension": ".py",
   "mimetype": "text/x-python",
   "name": "python",
   "nbconvert_exporter": "python",
   "pygments_lexer": "ipython3",
   "version": "3.10.14"
  }
 },
 "nbformat": 4,
 "nbformat_minor": 5
}
