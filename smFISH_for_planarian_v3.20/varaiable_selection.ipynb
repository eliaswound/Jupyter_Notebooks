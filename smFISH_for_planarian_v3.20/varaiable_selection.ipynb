{
 "cells": [
  {
   "cell_type": "code",
   "execution_count": 1,
   "id": "d9b3aeaa-7330-4035-993f-71ef3e56688f",
   "metadata": {},
   "outputs": [
    {
     "ename": "SystemExit",
     "evalue": "0",
     "output_type": "error",
     "traceback": [
      "An exception has occurred, use %tb to see the full traceback.\n",
      "\u001b[0;31mSystemExit\u001b[0m\u001b[0;31m:\u001b[0m 0\n"
     ]
    },
    {
     "name": "stderr",
     "output_type": "stream",
     "text": [
      "/Users/eliasguan/anaconda3/envs/stardist-env/lib/python3.10/site-packages/IPython/core/interactiveshell.py:3585: UserWarning: To exit: use 'exit', 'quit', or Ctrl-D.\n",
      "  warn(\"To exit: use 'exit', 'quit', or Ctrl-D.\", stacklevel=1)\n"
     ]
    }
   ],
   "source": [
    "from PyQt5.QtWidgets import QApplication, QWidget, QVBoxLayout, QPushButton, QFileDialog, QMessageBox\n",
    "import sys\n",
    "\n",
    "class ImageSelectorApp(QWidget):\n",
    "    def __init__(self):\n",
    "        super().__init__()\n",
    "        \n",
    "        # Set up the main layout\n",
    "        self.setWindowTitle(\"Image Selector\")\n",
    "        self.layout = QVBoxLayout()\n",
    "        \n",
    "        # Initialize control image path and smFISH image path variables\n",
    "        self.control_image_path = None\n",
    "        self.smfish_image_path = None\n",
    "        self.control_enabled = False\n",
    "        \n",
    "        # Create toggle button for control image\n",
    "        self.control_toggle_button = QPushButton(\"Enable Control Image\")\n",
    "        self.control_toggle_button.setCheckable(True)\n",
    "        self.control_toggle_button.clicked.connect(self.toggle_control_button)\n",
    "        self.layout.addWidget(self.control_toggle_button)\n",
    "        \n",
    "        # Create control image button, initially hidden\n",
    "        self.control_image_button = QPushButton(\"Select Control Image\")\n",
    "        self.control_image_button.clicked.connect(self.select_control_image)\n",
    "        self.control_image_button.setVisible(False)  # Start hidden\n",
    "        self.layout.addWidget(self.control_image_button)\n",
    "        \n",
    "        # Create smFISH image button\n",
    "        self.smfish_image_button = QPushButton(\"Select smFISH Image\")\n",
    "        self.smfish_image_button.clicked.connect(self.select_smfish_image)\n",
    "        self.layout.addWidget(self.smfish_image_button)\n",
    "        \n",
    "        # Create finish button\n",
    "        self.finish_button = QPushButton(\"Finish\")\n",
    "        self.finish_button.clicked.connect(self.finish)\n",
    "        self.layout.addWidget(self.finish_button)\n",
    "        \n",
    "        # Set the layout\n",
    "        self.setLayout(self.layout)\n",
    "    \n",
    "    def toggle_control_button(self):\n",
    "        # Toggle the state of control image selection\n",
    "        self.control_enabled = not self.control_enabled\n",
    "        if self.control_enabled:\n",
    "            self.control_toggle_button.setText(\"Disable Control Image\")\n",
    "            self.control_image_button.setVisible(True)\n",
    "        else:\n",
    "            self.control_toggle_button.setText(\"Enable Control Image\")\n",
    "            self.control_image_button.setVisible(False)\n",
    "            self.control_image_path = None  # Clear control image path if disabled\n",
    "    \n",
    "    def select_control_image(self):\n",
    "        # Open file dialog for control image\n",
    "        self.control_image_path, _ = QFileDialog.getOpenFileName(self, \"Please select your control Image\")\n",
    "        if self.control_image_path:\n",
    "            QMessageBox.information(self, \"Selected File\", f\"Control Image selected: {self.control_image_path}\")\n",
    "    \n",
    "    def select_smfish_image(self):\n",
    "        # Open file dialog for smFISH image\n",
    "        self.smfish_image_path, _ = QFileDialog.getOpenFileName(self, \"Please select your smFISH Image\")\n",
    "        if self.smfish_image_path:\n",
    "            QMessageBox.information(self, \"Selected File\", f\"smFISH Image selected: {self.smfish_image_path}\")\n",
    "    \n",
    "    def finish(self):\n",
    "        # Check conditions for closing\n",
    "        if (not self.control_enabled or self.control_image_path) and self.smfish_image_path:\n",
    "            self.close()\n",
    "        else:\n",
    "            # Show error if conditions are not met\n",
    "            missing = []\n",
    "            if self.control_enabled and not self.control_image_path:\n",
    "                missing.append(\"Control Image\")\n",
    "            if not self.smfish_image_path:\n",
    "                missing.append(\"smFISH Image\")\n",
    "            QMessageBox.warning(self, \"Missing Files\", f\"Please select the following: {', '.join(missing)}\")\n",
    "\n",
    "# Initialize the application and run the main event loop\n",
    "if __name__ == \"__main__\":\n",
    "    app = QApplication(sys.argv)\n",
    "    window = ImageSelectorApp()\n",
    "    window.show()\n",
    "    sys.exit(app.exec_())"
   ]
  },
  {
   "cell_type": "code",
   "execution_count": null,
   "id": "cf192fb2-0f12-4237-9da8-7e2df93e1b83",
   "metadata": {},
   "outputs": [],
   "source": []
  }
 ],
 "metadata": {
  "kernelspec": {
   "display_name": "stardist-env",
   "language": "python",
   "name": "stardist-env"
  },
  "language_info": {
   "codemirror_mode": {
    "name": "ipython",
    "version": 3
   },
   "file_extension": ".py",
   "mimetype": "text/x-python",
   "name": "python",
   "nbconvert_exporter": "python",
   "pygments_lexer": "ipython3",
   "version": "3.10.14"
  }
 },
 "nbformat": 4,
 "nbformat_minor": 5
}
